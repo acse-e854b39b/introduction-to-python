{
 "cells": [
  {
   "cell_type": "code",
   "execution_count": 3,
   "metadata": {
    "execution": {
     "iopub.execute_input": "2021-09-02T14:09:00.646835Z",
     "iopub.status.busy": "2021-09-02T14:09:00.645935Z",
     "iopub.status.idle": "2021-09-02T14:09:01.228848Z",
     "shell.execute_reply": "2021-09-02T14:09:01.229321Z"
    }
   },
   "outputs": [
    {
     "name": "stdout",
     "output_type": "stream",
     "text": [
      "=====================================================================\n",
      "Assignment: Lecture 4\n",
      "OK, version v1.18.1\n",
      "=====================================================================\n",
      "\n"
     ]
    }
   ],
   "source": [
    "import pybryt\n",
    "from lecture import ok, pybryt_reference"
   ]
  },
  {
   "cell_type": "markdown",
   "metadata": {},
   "source": [
    "# Introduction to programming in Python\n",
    "\n",
    "# Lecture 4"
   ]
  },
  {
   "cell_type": "markdown",
   "metadata": {},
   "source": [
    "Learning objectives: You will learn how to:\n",
    "\n",
    "* Parse strings to extract specific data of interest.\n",
    "* Use dictionaries to index data using any type of key.\n",
    "* Learn how to create your own **objects** in Python and develop **member functions** for these new data types."
   ]
  },
  {
   "cell_type": "markdown",
   "metadata": {},
   "source": [
    "## Python dictionaries\n",
    "Suppose we need to store the temperatures in Oslo, London, and Paris. The Python list solution might look like:"
   ]
  },
  {
   "cell_type": "code",
   "execution_count": 2,
   "metadata": {
    "execution": {
     "iopub.execute_input": "2021-09-02T14:09:01.233577Z",
     "iopub.status.busy": "2021-09-02T14:09:01.233016Z",
     "iopub.status.idle": "2021-09-02T14:09:01.236370Z",
     "shell.execute_reply": "2021-09-02T14:09:01.236844Z"
    }
   },
   "outputs": [],
   "source": [
    "temps = [13, 15.4, 17.5]\n",
    "# temps[0]: Oslo\n",
    "# temps[1]: London\n",
    "# temps[2]: Paris"
   ]
  },
  {
   "cell_type": "markdown",
   "metadata": {},
   "source": [
    "In this case, we need to remember the mapping between the index and the city name. It would be easier to specify the name of the city to get the temperature. Containers such as lists and arrays use a continuous series of integers to index elements. However, for many applications, such an integer index is not useful.\n",
    "\n",
    "**Dictionaries** are containers where any Python object can be used as an index. Let us rewrite the previous example using a Python dictionary:"
   ]
  },
  {
   "cell_type": "code",
   "execution_count": 3,
   "metadata": {
    "execution": {
     "iopub.execute_input": "2021-09-02T14:09:01.243260Z",
     "iopub.status.busy": "2021-09-02T14:09:01.242669Z",
     "iopub.status.idle": "2021-09-02T14:09:01.248997Z",
     "shell.execute_reply": "2021-09-02T14:09:01.249463Z"
    }
   },
   "outputs": [
    {
     "name": "stdout",
     "output_type": "stream",
     "text": [
      "The temperature in London is 15.4\n"
     ]
    }
   ],
   "source": [
    "temps = {\"Oslo\": 13, \"London\": 15.4, \"Paris\": 17.5}\n",
    "print(\"The temperature in London is\", temps[\"London\"])"
   ]
  },
  {
   "cell_type": "markdown",
   "metadata": {},
   "source": [
    "Add a new item to a dictionary:"
   ]
  },
  {
   "cell_type": "code",
   "execution_count": 4,
   "metadata": {
    "execution": {
     "iopub.execute_input": "2021-09-02T14:09:01.255009Z",
     "iopub.status.busy": "2021-09-02T14:09:01.254435Z",
     "iopub.status.idle": "2021-09-02T14:09:01.258351Z",
     "shell.execute_reply": "2021-09-02T14:09:01.257832Z"
    }
   },
   "outputs": [
    {
     "name": "stdout",
     "output_type": "stream",
     "text": [
      "{'Oslo': 13, 'London': 15.4, 'Paris': 17.5, 'Madrid': 26.0}\n"
     ]
    }
   ],
   "source": [
    "temps[\"Madrid\"] = 26.0\n",
    "print(temps)"
   ]
  },
  {
   "cell_type": "markdown",
   "metadata": {},
   "source": [
    "Loop (iterate) over a dictionary:"
   ]
  },
  {
   "cell_type": "code",
   "execution_count": 5,
   "metadata": {
    "execution": {
     "iopub.execute_input": "2021-09-02T14:09:01.265803Z",
     "iopub.status.busy": "2021-09-02T14:09:01.265206Z",
     "iopub.status.idle": "2021-09-02T14:09:01.273580Z",
     "shell.execute_reply": "2021-09-02T14:09:01.274021Z"
    }
   },
   "outputs": [
    {
     "name": "stdout",
     "output_type": "stream",
     "text": [
      "The temperature in Oslo is 13\n",
      "The temperature in London is 15.4\n",
      "The temperature in Paris is 17.5\n",
      "The temperature in Madrid is 26\n"
     ]
    }
   ],
   "source": [
    "for city in temps:\n",
    "    print(\"The temperature in %s is %g\" % (city, temps[city]))"
   ]
  },
  {
   "cell_type": "markdown",
   "metadata": {},
   "source": [
    "The index in a dictionary is called the **key**. A dictionary is said to hold key–value pairs. So, in general:\n",
    "\n",
    "```python\n",
    "for key in dictionary:\n",
    "    value = dictionary[key]\n",
    "    print(value)\n",
    "```"
   ]
  },
  {
   "cell_type": "markdown",
   "metadata": {},
   "source": [
    "Does the dictionary have a particular key (i.e. a particular data entry)?"
   ]
  },
  {
   "cell_type": "code",
   "execution_count": 6,
   "metadata": {
    "execution": {
     "iopub.execute_input": "2021-09-02T14:09:01.280282Z",
     "iopub.status.busy": "2021-09-02T14:09:01.279703Z",
     "iopub.status.idle": "2021-09-02T14:09:01.283406Z",
     "shell.execute_reply": "2021-09-02T14:09:01.282634Z"
    }
   },
   "outputs": [
    {
     "name": "stdout",
     "output_type": "stream",
     "text": [
      "I don't know Berlin' temperature.\n"
     ]
    }
   ],
   "source": [
    "if \"Berlin\" in temps:\n",
    "    print(\"We have Berlin and its temperature is \", temps[\"Berlin\"])\n",
    "else:\n",
    "    print(\"I don't know Berlin' temperature.\")"
   ]
  },
  {
   "cell_type": "code",
   "execution_count": 7,
   "metadata": {
    "execution": {
     "iopub.execute_input": "2021-09-02T14:09:01.288955Z",
     "iopub.status.busy": "2021-09-02T14:09:01.288110Z",
     "iopub.status.idle": "2021-09-02T14:09:01.291964Z",
     "shell.execute_reply": "2021-09-02T14:09:01.291471Z"
    }
   },
   "outputs": [
    {
     "name": "stdout",
     "output_type": "stream",
     "text": [
      "True\n"
     ]
    }
   ],
   "source": [
    "print(\"Oslo\" in temps)  # i.e. standard boolean expression"
   ]
  },
  {
   "cell_type": "markdown",
   "metadata": {},
   "source": [
    "The keys and values can be reached as lists:"
   ]
  },
  {
   "cell_type": "code",
   "execution_count": 8,
   "metadata": {
    "execution": {
     "iopub.execute_input": "2021-09-02T14:09:01.300204Z",
     "iopub.status.busy": "2021-09-02T14:09:01.299627Z",
     "iopub.status.idle": "2021-09-02T14:09:01.306929Z",
     "shell.execute_reply": "2021-09-02T14:09:01.304991Z"
    }
   },
   "outputs": [
    {
     "name": "stdout",
     "output_type": "stream",
     "text": [
      "Keys =  dict_keys(['Oslo', 'London', 'Paris', 'Madrid'])\n",
      "Values =  dict_values([13, 15.4, 17.5, 26.0])\n"
     ]
    }
   ],
   "source": [
    "print(\"Keys = \", temps.keys())\n",
    "print(\"Values = \", temps.values())"
   ]
  },
  {
   "cell_type": "markdown",
   "metadata": {},
   "source": [
    "Note that the sequence of keys is **arbitrary**! Never rely on it, if you need a specific order of the keys then you should explicitly sort:"
   ]
  },
  {
   "cell_type": "code",
   "execution_count": 9,
   "metadata": {
    "execution": {
     "iopub.execute_input": "2021-09-02T14:09:01.310648Z",
     "iopub.status.busy": "2021-09-02T14:09:01.310078Z",
     "iopub.status.idle": "2021-09-02T14:09:01.330213Z",
     "shell.execute_reply": "2021-09-02T14:09:01.326926Z"
    }
   },
   "outputs": [
    {
     "name": "stdout",
     "output_type": "stream",
     "text": [
      "London 15.4\n",
      "Madrid 26.0\n",
      "Oslo 13\n",
      "Paris 17.5\n"
     ]
    }
   ],
   "source": [
    "for key in sorted(temps):\n",
    "    value = temps[key]\n",
    "    print(key, value)"
   ]
  },
  {
   "cell_type": "markdown",
   "metadata": {},
   "source": [
    "Remove Oslo key-value pair:"
   ]
  },
  {
   "cell_type": "code",
   "execution_count": 10,
   "metadata": {
    "execution": {
     "iopub.execute_input": "2021-09-02T14:09:01.334071Z",
     "iopub.status.busy": "2021-09-02T14:09:01.333508Z",
     "iopub.status.idle": "2021-09-02T14:09:01.343284Z",
     "shell.execute_reply": "2021-09-02T14:09:01.342792Z"
    }
   },
   "outputs": [
    {
     "name": "stdout",
     "output_type": "stream",
     "text": [
      "{'London': 15.4, 'Paris': 17.5, 'Madrid': 26.0}\n",
      "3\n"
     ]
    }
   ],
   "source": [
    "del temps[\"Oslo\"]  # remove Oslo key w/value\n",
    "print(temps)\n",
    "print(len(temps))"
   ]
  },
  {
   "cell_type": "markdown",
   "metadata": {},
   "source": [
    "Similarly to what we saw for arrays, two variables can refer to the same dictionary:"
   ]
  },
  {
   "cell_type": "code",
   "execution_count": 11,
   "metadata": {
    "execution": {
     "iopub.execute_input": "2021-09-02T14:09:01.347715Z",
     "iopub.status.busy": "2021-09-02T14:09:01.347139Z",
     "iopub.status.idle": "2021-09-02T14:09:01.351240Z",
     "shell.execute_reply": "2021-09-02T14:09:01.351711Z"
    }
   },
   "outputs": [
    {
     "name": "stdout",
     "output_type": "stream",
     "text": [
      "{'London': 15.4, 'Paris': 17.5, 'Madrid': 26.0, 'Stockholm': 10.0}\n"
     ]
    }
   ],
   "source": [
    "t1 = temps\n",
    "t1[\"Stockholm\"] = 10.0\n",
    "print(temps)"
   ]
  },
  {
   "cell_type": "markdown",
   "metadata": {},
   "source": [
    "So, we can see that while we modified `t1`, the `temps` dictionary was also changed."
   ]
  },
  {
   "cell_type": "markdown",
   "metadata": {},
   "source": [
    "Let us look at a simple example of reading the same data from a file and putting it into a dictionary. We will be reading the file [data/deg2.dat](./data/deg2.dat)."
   ]
  },
  {
   "cell_type": "code",
   "execution_count": 40,
   "metadata": {
    "execution": {
     "iopub.execute_input": "2021-09-02T14:09:01.356922Z",
     "iopub.status.busy": "2021-09-02T14:09:01.356331Z",
     "iopub.status.idle": "2021-09-02T14:09:01.360920Z",
     "shell.execute_reply": "2021-09-02T14:09:01.361397Z"
    }
   },
   "outputs": [
    {
     "name": "stdout",
     "output_type": "stream",
     "text": [
      "Oslo:          21.8\n",
      "\n",
      "London:        18.1\n",
      "\n",
      "Berlin:        19\n",
      "\n",
      "Paris:         23\n",
      "\n",
      "Rome:          26\n",
      "\n",
      "{'Oslo': 21.8, 'London': 18.1, 'Berlin': 19.0, 'Paris': 23.0, 'Rome': 26.0}\n"
     ]
    }
   ],
   "source": [
    "infile = open(\"data/deg2.dat\", \"r\")\n",
    "# Start with an empty dictionary\n",
    "temps = {}\n",
    "for line in infile:\n",
    "    # If you examine the file you will see a ':' after the city name,\n",
    "    # so let's use this as the delimiter for splitting the line.\n",
    "    city, temp = line.split(\":\")\n",
    "    temps[city] = float(temp)\n",
    "    print(line)\n",
    "infile.close()\n",
    "\n",
    "\n",
    "print(temps)"
   ]
  },
  {
   "cell_type": "markdown",
   "metadata": {},
   "source": [
    "## Exercise 4.1: Make a dictionary from a table\n",
    "\n",
    "The file [data/constants.txt](data/constants.txt) contains a table of the values and the dimensions of some fundamental constants from physics. We want to load this table into a dictionary `constants`, where the keys are the names of the constants. For example, `constants['gravitational constant']` holds the value of the gravitational constant (6.67259 $\\times$ 10$^{-11}$) in Newton's law of gravitation. Make a function `read_constants(file_path)` that reads and interprets the text in the file passed as an argument, and after that returns the dictionary."
   ]
  },
  {
   "cell_type": "code",
   "execution_count": 163,
   "metadata": {
    "execution": {
     "iopub.execute_input": "2021-09-02T14:09:01.366348Z",
     "iopub.status.busy": "2021-09-02T14:09:01.364482Z",
     "iopub.status.idle": "2021-09-02T14:09:01.367167Z",
     "shell.execute_reply": "2021-09-02T14:09:01.367636Z"
    }
   },
   "outputs": [
    {
     "data": {
      "text/plain": [
       "{'speed of light': 299792458.0,\n",
       " 'gravitational constant': 6.67259e-11,\n",
       " 'Planck constant': 6.6260755e-34,\n",
       " 'elementary charge': 1.60217733e-19,\n",
       " 'Avogadro number': 6.0221367e+23,\n",
       " 'Boltzmann constant': 1.380658e-23,\n",
       " 'electron mass': 9.1093897e-31,\n",
       " 'proton mass': 1.6726231e-27}"
      ]
     },
     "execution_count": 163,
     "metadata": {},
     "output_type": "execute_result"
    }
   ],
   "source": [
    "# Uncomment and modify the following code. Do not change variable names for testing purposes.\n",
    "values={}\n",
    "\n",
    "file_path='data/constants.txt'\n",
    "def read_constants(file_path):\n",
    "    with open(file_path,'r') as f:\n",
    "        next(f)\n",
    "        next(f)\n",
    "        for line in f:\n",
    "            constant=line.split(\"  \")[0]\n",
    "            unit=line.split(\" \")[-1]\n",
    "            value=line.split()[-2]\n",
    "            values[constant] = float(value)\n",
    "        return values\n",
    "    \n",
    "read_constants('./data/constants.txt')"
   ]
  },
  {
   "cell_type": "code",
   "execution_count": 164,
   "metadata": {
    "execution": {
     "iopub.execute_input": "2021-09-02T14:09:01.379415Z",
     "iopub.status.busy": "2021-09-02T14:09:01.378805Z",
     "iopub.status.idle": "2021-09-02T14:09:01.408160Z",
     "shell.execute_reply": "2021-09-02T14:09:01.407643Z"
    },
    "tags": [
     "pybryt"
    ]
   },
   "outputs": [
    {
     "name": "stdout",
     "output_type": "stream",
     "text": [
      "REFERENCE: exercise-4_1\n",
      "SATISFIED: False\n",
      "MESSAGES:\n",
      "  - ERROR: Hmmm... It seems you are either not extracting constants or not adding constants to the dictionary.\n",
      "  - ERROR: Please think about iterating through the file line by line.\n",
      "  - ERROR: You did not set an empty dictionary you populate in the loop.\n",
      "  - ERROR: You do not split lines into fragments\n",
      "  - SUCCESS: Wow! Your resulting dictionary is correct.\n"
     ]
    }
   ],
   "source": [
    "with pybryt.check(pybryt_reference(4, 1)):\n",
    "    read_constants('./data/constants.txt')"
   ]
  },
  {
   "cell_type": "code",
   "execution_count": 165,
   "metadata": {
    "execution": {
     "iopub.execute_input": "2021-09-02T14:09:01.414834Z",
     "iopub.status.busy": "2021-09-02T14:09:01.414267Z",
     "iopub.status.idle": "2021-09-02T14:09:01.437425Z",
     "shell.execute_reply": "2021-09-02T14:09:01.437900Z"
    },
    "tags": [
     "okpy"
    ]
   },
   "outputs": [
    {
     "name": "stdout",
     "output_type": "stream",
     "text": [
      "~~~~~~~~~~~~~~~~~~~~~~~~~~~~~~~~~~~~~~~~~~~~~~~~~~~~~~~~~~~~~~~~~~~~~\n",
      "Running tests\n",
      "\n",
      "---------------------------------------------------------------------\n",
      "Test summary\n",
      "    Passed: 1\n",
      "    Failed: 0\n",
      "[ooooooooook] 100.0% passed\n",
      "\n"
     ]
    },
    {
     "data": {
      "text/plain": [
       "{'passed': 1, 'failed': 0, 'locked': 0}"
      ]
     },
     "execution_count": 165,
     "metadata": {},
     "output_type": "execute_result"
    }
   ],
   "source": [
    "ok.grade('exercise-4_1')"
   ]
  },
  {
   "cell_type": "markdown",
   "metadata": {},
   "source": [
    "## Exercise 4.2: Reverse a dictionary\n",
    "\n",
    "Consider the following dictionary translating some English words to German:\n",
    "\n",
    "```python\n",
    "my_dict = {'dog': 'Hund', 'cat': 'Katze', 'house': 'Haus', 'bicycle': 'Fahrrad'}\n",
    "```\n",
    "\n",
    "Write a Python function `reverse_dict(dictionary)` that takes any dictionary as input and reverses it. For instance, if `my_dict` is passed, a German-English dictionary with key-value pairs (items) is returned."
   ]
  },
  {
   "cell_type": "code",
   "execution_count": 189,
   "metadata": {
    "execution": {
     "iopub.execute_input": "2021-09-02T14:09:01.448859Z",
     "iopub.status.busy": "2021-09-02T14:09:01.448243Z",
     "iopub.status.idle": "2021-09-02T14:09:01.452841Z",
     "shell.execute_reply": "2021-09-02T14:09:01.452236Z"
    }
   },
   "outputs": [
    {
     "data": {
      "text/plain": [
       "{'b': 'a', 'd': 'c', 'f': 'e', 'h': 'g'}"
      ]
     },
     "execution_count": 189,
     "metadata": {},
     "output_type": "execute_result"
    }
   ],
   "source": [
    "# Uncomment and modify the following code. Do not change variable names for testing purposes.\n",
    "\n",
    "def reverse_dict(dictionary):\n",
    "    return {value : key for (key, value) in dictionary.items()}\n",
    "\n",
    "\n",
    "\n",
    "reverse_dict({'a': 'b', 'c': 'd', 'e': 'f', 'g': 'h'})"
   ]
  },
  {
   "cell_type": "code",
   "execution_count": null,
   "metadata": {},
   "outputs": [],
   "source": []
  },
  {
   "cell_type": "code",
   "execution_count": 190,
   "metadata": {
    "execution": {
     "iopub.execute_input": "2021-09-02T14:09:01.466963Z",
     "iopub.status.busy": "2021-09-02T14:09:01.466158Z",
     "iopub.status.idle": "2021-09-02T14:09:01.478918Z",
     "shell.execute_reply": "2021-09-02T14:09:01.478435Z"
    },
    "tags": [
     "pybryt"
    ]
   },
   "outputs": [
    {
     "name": "stdout",
     "output_type": "stream",
     "text": [
      "REFERENCE: exercise-4_2\n",
      "SATISFIED: False\n",
      "MESSAGES:\n",
      "  - ERROR: It seems you are not adding reversed items to the dictionary.\n",
      "  - ERROR: You do not set an empty dictionary before the loop.\n",
      "  - SUCCESS: Wow! Your function reverses a dictionary correctly.\n"
     ]
    }
   ],
   "source": [
    "with pybryt.check(pybryt_reference(4, 2)):\n",
    "    reverse_dict({'a': 'b', 'c': 'd', 'e': 'f', 'g': 'h'})"
   ]
  },
  {
   "cell_type": "code",
   "execution_count": 191,
   "metadata": {
    "execution": {
     "iopub.execute_input": "2021-09-02T14:09:01.484711Z",
     "iopub.status.busy": "2021-09-02T14:09:01.484102Z",
     "iopub.status.idle": "2021-09-02T14:09:01.509536Z",
     "shell.execute_reply": "2021-09-02T14:09:01.508186Z"
    },
    "tags": [
     "okpy"
    ]
   },
   "outputs": [
    {
     "name": "stdout",
     "output_type": "stream",
     "text": [
      "~~~~~~~~~~~~~~~~~~~~~~~~~~~~~~~~~~~~~~~~~~~~~~~~~~~~~~~~~~~~~~~~~~~~~\n",
      "Running tests\n",
      "\n",
      "---------------------------------------------------------------------\n",
      "Test summary\n",
      "    Passed: 1\n",
      "    Failed: 0\n",
      "[ooooooooook] 100.0% passed\n",
      "\n"
     ]
    },
    {
     "data": {
      "text/plain": [
       "{'passed': 1, 'failed': 0, 'locked': 0}"
      ]
     },
     "execution_count": 191,
     "metadata": {},
     "output_type": "execute_result"
    }
   ],
   "source": [
    "ok.grade('exercise-4_2')"
   ]
  },
  {
   "cell_type": "markdown",
   "metadata": {},
   "source": [
    "## Exercise 4.3: Compute the area of a triangle\n",
    "\n",
    "An arbitrary triangle can be described by the coordinates of its three vertices: $(x_1, y_1), (x_2, y_2), (x_3, y_3)$, numbered in a counterclockwise direction. The area of the triangle is given by the formula:\n",
    "\n",
    "$$A = \\frac{1}{2}|x_2y_3 - x_3y_2 - x_1y_3 + x_3y_1 + x_1y_2 - x_2y_1|.$$\n",
    "\n",
    "Write a function `triangle_area(vertices)` that returns the area of a triangle whose vertices are specified by the argument `vertices`, which is a dictionary and not a list. The keys in the dictionary correspond to the vertex number (1, 2, or 3) while the values are 2-tuples with the $x$ and $y$ coordinates of the vertex - $(x, y)$. For example, for a triangle with vertices $(0, 0)$, $(1, 0)$, and $(0, 2)$ the `vertices` argument is: `{1: (0, 0), 2: (1, 0), 3: (0, 2)}`.\n",
    "\n",
    "**Question**: Can the function `triangle_area(vertices)` accept both a nested list and a dictionary as an argument?"
   ]
  },
  {
   "cell_type": "code",
   "execution_count": 228,
   "metadata": {
    "execution": {
     "iopub.execute_input": "2021-09-02T14:09:01.520734Z",
     "iopub.status.busy": "2021-09-02T14:09:01.519469Z",
     "iopub.status.idle": "2021-09-02T14:09:01.523244Z",
     "shell.execute_reply": "2021-09-02T14:09:01.522663Z"
    }
   },
   "outputs": [
    {
     "data": {
      "text/plain": [
       "2851.0"
      ]
     },
     "execution_count": 228,
     "metadata": {},
     "output_type": "execute_result"
    }
   ],
   "source": [
    "# Uncomment and modify the following code. Do not change variable names for testing purposes.\n",
    "\n",
    "def triangle_area(vertices):\n",
    "    xvalues=[]\n",
    "    yvalues=[]\n",
    "    for i in range(1,4):\n",
    "        v=vertices[i]\n",
    "        #print(v)\n",
    "        x=v[0]\n",
    "        #print(x)\n",
    "        xvalues.append(x)\n",
    "        y=v[1]\n",
    "        #print(y)\n",
    "        yvalues.append(y)\n",
    "    #print(xvalues,yvalues)\n",
    "    #print(xvalues[1])\n",
    "    return abs(1/2*((xvalues[1]*yvalues[2])-(xvalues[2]*yvalues[1])-(xvalues[0]*yvalues[2])+(xvalues[2]*yvalues[0])+(xvalues[0]*yvalues[2])-(xvalues[1]*yvalues[0])))\n",
    "    \n",
    "triangle_area({1: (100, 20), 2: (101, 130), 3: (-50, 22)})"
   ]
  },
  {
   "cell_type": "code",
   "execution_count": 233,
   "metadata": {
    "execution": {
     "iopub.execute_input": "2021-09-02T14:09:01.534941Z",
     "iopub.status.busy": "2021-09-02T14:09:01.534368Z",
     "iopub.status.idle": "2021-09-02T14:09:01.543515Z",
     "shell.execute_reply": "2021-09-02T14:09:01.543014Z"
    },
    "tags": [
     "pybryt"
    ]
   },
   "outputs": [
    {
     "name": "stdout",
     "output_type": "stream",
     "text": [
      "REFERENCE: exercise-4_3\n",
      "SATISFIED: False\n",
      "MESSAGES:\n",
      "  - ERROR: The triangle area your function computes is wrong.\n"
     ]
    }
   ],
   "source": [
    "with pybryt.check(pybryt_reference(4, 3)):\n",
    "    triangle_area({1: (100, 20), 2: (101, 130), 3: (-50, 22)})"
   ]
  },
  {
   "cell_type": "code",
   "execution_count": 234,
   "metadata": {
    "execution": {
     "iopub.execute_input": "2021-09-02T14:09:01.550656Z",
     "iopub.status.busy": "2021-09-02T14:09:01.550076Z",
     "iopub.status.idle": "2021-09-02T14:09:01.577711Z",
     "shell.execute_reply": "2021-09-02T14:09:01.575675Z"
    },
    "tags": [
     "okpy"
    ]
   },
   "outputs": [
    {
     "name": "stdout",
     "output_type": "stream",
     "text": [
      "~~~~~~~~~~~~~~~~~~~~~~~~~~~~~~~~~~~~~~~~~~~~~~~~~~~~~~~~~~~~~~~~~~~~~\n",
      "Running tests\n",
      "\n",
      "---------------------------------------------------------------------\n",
      "Test summary\n",
      "    Passed: 3\n",
      "    Failed: 0\n",
      "[ooooooooook] 100.0% passed\n",
      "\n"
     ]
    },
    {
     "data": {
      "text/plain": [
       "{'passed': 3, 'failed': 0, 'locked': 0}"
      ]
     },
     "execution_count": 234,
     "metadata": {},
     "output_type": "execute_result"
    }
   ],
   "source": [
    "ok.grade('exercise-4_3')"
   ]
  },
  {
   "cell_type": "markdown",
   "metadata": {},
   "source": [
    "## String manipulation\n",
    "\n",
    "Text in Python is represented as **strings**. Programming with strings is therefore the key to interpret text in files and construct new text (i.e. **parsing**). First we show some common string operations and then we apply them to real examples. Our sample string used for illustration is:"
   ]
  },
  {
   "cell_type": "code",
   "execution_count": 235,
   "metadata": {
    "execution": {
     "iopub.execute_input": "2021-09-02T14:09:01.591718Z",
     "iopub.status.busy": "2021-09-02T14:09:01.591155Z",
     "iopub.status.idle": "2021-09-02T14:09:01.595010Z",
     "shell.execute_reply": "2021-09-02T14:09:01.594505Z"
    }
   },
   "outputs": [],
   "source": [
    "s = \"Berlin: 18.4 C at 4 pm\""
   ]
  },
  {
   "cell_type": "markdown",
   "metadata": {},
   "source": [
    "Strings behave much like lists/tuples - they are simply a sequence of characters:"
   ]
  },
  {
   "cell_type": "code",
   "execution_count": 236,
   "metadata": {
    "execution": {
     "iopub.execute_input": "2021-09-02T14:09:01.604221Z",
     "iopub.status.busy": "2021-09-02T14:09:01.602785Z",
     "iopub.status.idle": "2021-09-02T14:09:01.611658Z",
     "shell.execute_reply": "2021-09-02T14:09:01.607650Z"
    }
   },
   "outputs": [
    {
     "name": "stdout",
     "output_type": "stream",
     "text": [
      "s[0] = B\n",
      "s[1] = e\n"
     ]
    }
   ],
   "source": [
    "print(\"s[0] =\", s[0])\n",
    "print(\"s[1] =\", s[1])"
   ]
  },
  {
   "cell_type": "markdown",
   "metadata": {},
   "source": [
    "Substrings are just slices of lists and arrays:"
   ]
  },
  {
   "cell_type": "code",
   "execution_count": 237,
   "metadata": {
    "execution": {
     "iopub.execute_input": "2021-09-02T14:09:01.615043Z",
     "iopub.status.busy": "2021-09-02T14:09:01.613703Z",
     "iopub.status.idle": "2021-09-02T14:09:01.621087Z",
     "shell.execute_reply": "2021-09-02T14:09:01.620552Z"
    }
   },
   "outputs": [
    {
     "name": "stdout",
     "output_type": "stream",
     "text": [
      "18.4 C at 4 pm\n"
     ]
    }
   ],
   "source": [
    "# from index 8 to the end of the string\n",
    "print(s[8:])"
   ]
  },
  {
   "cell_type": "code",
   "execution_count": 238,
   "metadata": {
    "execution": {
     "iopub.execute_input": "2021-09-02T14:09:01.624861Z",
     "iopub.status.busy": "2021-09-02T14:09:01.622994Z",
     "iopub.status.idle": "2021-09-02T14:09:01.629434Z",
     "shell.execute_reply": "2021-09-02T14:09:01.628937Z"
    }
   },
   "outputs": [
    {
     "name": "stdout",
     "output_type": "stream",
     "text": [
      "18.4\n"
     ]
    }
   ],
   "source": [
    "# indices 8, 9, 10 and 11 (not 12!)\n",
    "print(s[8:12])"
   ]
  },
  {
   "cell_type": "code",
   "execution_count": 239,
   "metadata": {
    "execution": {
     "iopub.execute_input": "2021-09-02T14:09:01.634970Z",
     "iopub.status.busy": "2021-09-02T14:09:01.633934Z",
     "iopub.status.idle": "2021-09-02T14:09:01.637788Z",
     "shell.execute_reply": "2021-09-02T14:09:01.637297Z"
    }
   },
   "outputs": [
    {
     "name": "stdout",
     "output_type": "stream",
     "text": [
      "18.4 C\n"
     ]
    }
   ],
   "source": [
    "# from index 8 to 8 from the end of the string\n",
    "print(s[8:-8])"
   ]
  },
  {
   "cell_type": "markdown",
   "metadata": {},
   "source": [
    "You can also find the start index of a substring:"
   ]
  },
  {
   "cell_type": "code",
   "execution_count": 240,
   "metadata": {
    "execution": {
     "iopub.execute_input": "2021-09-02T14:09:01.643505Z",
     "iopub.status.busy": "2021-09-02T14:09:01.642449Z",
     "iopub.status.idle": "2021-09-02T14:09:01.646443Z",
     "shell.execute_reply": "2021-09-02T14:09:01.645948Z"
    }
   },
   "outputs": [
    {
     "name": "stdout",
     "output_type": "stream",
     "text": [
      "0\n"
     ]
    }
   ],
   "source": [
    "# where does \"Berlin\" start?\n",
    "print(s.find(\"Berlin\"))"
   ]
  },
  {
   "cell_type": "code",
   "execution_count": 241,
   "metadata": {
    "execution": {
     "iopub.execute_input": "2021-09-02T14:09:01.651950Z",
     "iopub.status.busy": "2021-09-02T14:09:01.650900Z",
     "iopub.status.idle": "2021-09-02T14:09:01.655244Z",
     "shell.execute_reply": "2021-09-02T14:09:01.654743Z"
    }
   },
   "outputs": [
    {
     "name": "stdout",
     "output_type": "stream",
     "text": [
      "20\n"
     ]
    }
   ],
   "source": [
    "print(s.find(\"pm\"))"
   ]
  },
  {
   "cell_type": "code",
   "execution_count": 242,
   "metadata": {
    "execution": {
     "iopub.execute_input": "2021-09-02T14:09:01.660489Z",
     "iopub.status.busy": "2021-09-02T14:09:01.657095Z",
     "iopub.status.idle": "2021-09-02T14:09:01.663784Z",
     "shell.execute_reply": "2021-09-02T14:09:01.663290Z"
    }
   },
   "outputs": [
    {
     "name": "stdout",
     "output_type": "stream",
     "text": [
      "-1\n"
     ]
    }
   ],
   "source": [
    "print(s.find(\"Oslo\"))"
   ]
  },
  {
   "cell_type": "markdown",
   "metadata": {},
   "source": [
    "In this last example, `Oslo` does not exist in the list so the return value is -1."
   ]
  },
  {
   "cell_type": "markdown",
   "metadata": {},
   "source": [
    "We can also check if a substring is contained in a string:"
   ]
  },
  {
   "cell_type": "code",
   "execution_count": 243,
   "metadata": {
    "execution": {
     "iopub.execute_input": "2021-09-02T14:09:01.669410Z",
     "iopub.status.busy": "2021-09-02T14:09:01.668376Z",
     "iopub.status.idle": "2021-09-02T14:09:01.672670Z",
     "shell.execute_reply": "2021-09-02T14:09:01.671691Z"
    }
   },
   "outputs": [
    {
     "name": "stdout",
     "output_type": "stream",
     "text": [
      "True\n"
     ]
    }
   ],
   "source": [
    "print(\"Berlin\" in s)"
   ]
  },
  {
   "cell_type": "code",
   "execution_count": 244,
   "metadata": {
    "execution": {
     "iopub.execute_input": "2021-09-02T14:09:01.677292Z",
     "iopub.status.busy": "2021-09-02T14:09:01.676712Z",
     "iopub.status.idle": "2021-09-02T14:09:01.682341Z",
     "shell.execute_reply": "2021-09-02T14:09:01.682858Z"
    }
   },
   "outputs": [
    {
     "name": "stdout",
     "output_type": "stream",
     "text": [
      "False\n"
     ]
    }
   ],
   "source": [
    "print(\"Oslo\" in s)"
   ]
  },
  {
   "cell_type": "code",
   "execution_count": 245,
   "metadata": {
    "execution": {
     "iopub.execute_input": "2021-09-02T14:09:01.687336Z",
     "iopub.status.busy": "2021-09-02T14:09:01.686761Z",
     "iopub.status.idle": "2021-09-02T14:09:01.691507Z",
     "shell.execute_reply": "2021-09-02T14:09:01.692016Z"
    }
   },
   "outputs": [
    {
     "name": "stdout",
     "output_type": "stream",
     "text": [
      "C found\n"
     ]
    }
   ],
   "source": [
    "if \"C\" in s:\n",
    "    print(\"C found\")\n",
    "else:\n",
    "    print(\"C not found\")"
   ]
  },
  {
   "cell_type": "markdown",
   "metadata": {},
   "source": [
    "### Search and replace\n",
    "Strings also support substituting a substring by another string. In general this looks like `s.replace(s1, s2)`, which replaces string `s1` in `s` by string `s2`, e.g.:"
   ]
  },
  {
   "cell_type": "code",
   "execution_count": 246,
   "metadata": {
    "execution": {
     "iopub.execute_input": "2021-09-02T14:09:01.696976Z",
     "iopub.status.busy": "2021-09-02T14:09:01.694037Z",
     "iopub.status.idle": "2021-09-02T14:09:01.700380Z",
     "shell.execute_reply": "2021-09-02T14:09:01.699827Z"
    }
   },
   "outputs": [
    {
     "name": "stdout",
     "output_type": "stream",
     "text": [
      "Berlin:_18.4_C_at_4_pm\n"
     ]
    }
   ],
   "source": [
    "s = s.replace(\" \", \"_\")\n",
    "print(s)"
   ]
  },
  {
   "cell_type": "code",
   "execution_count": 247,
   "metadata": {
    "execution": {
     "iopub.execute_input": "2021-09-02T14:09:01.705897Z",
     "iopub.status.busy": "2021-09-02T14:09:01.704859Z",
     "iopub.status.idle": "2021-09-02T14:09:01.709444Z",
     "shell.execute_reply": "2021-09-02T14:09:01.708233Z"
    }
   },
   "outputs": [
    {
     "name": "stdout",
     "output_type": "stream",
     "text": [
      "Bonn:_18.4_C_at_4_pm\n"
     ]
    }
   ],
   "source": [
    "s = s.replace(\"Berlin\", \"Bonn\")\n",
    "print(s)"
   ]
  },
  {
   "cell_type": "code",
   "execution_count": 248,
   "metadata": {
    "execution": {
     "iopub.execute_input": "2021-09-02T14:09:01.715159Z",
     "iopub.status.busy": "2021-09-02T14:09:01.714119Z",
     "iopub.status.idle": "2021-09-02T14:09:01.718166Z",
     "shell.execute_reply": "2021-09-02T14:09:01.717650Z"
    }
   },
   "outputs": [
    {
     "name": "stdout",
     "output_type": "stream",
     "text": [
      "London:_18.4_C_at_4_pm\n"
     ]
    }
   ],
   "source": [
    "# Replace the text before the first colon by 'London'\n",
    "s = s.replace(s[:s.find(\":\")], \"London\")\n",
    "print(s)"
   ]
  },
  {
   "cell_type": "markdown",
   "metadata": {},
   "source": [
    "Notice that in all these examples, we assign the new result back to `s`. One of the reasons we are doing this is that strings are actually constant (i.e immutable) and therefore cannot be modified *inplace*. We **cannot** write for example:\n",
    "\n",
    "```python\n",
    "s[18] = '5'\n",
    "TypeError: \"str\" object does not support item assignment\n",
    "```"
   ]
  },
  {
   "cell_type": "markdown",
   "metadata": {},
   "source": [
    "We also encountered examples above where we used the `split` function to break up a line into separate substrings for a given separator (where a space is the default delimiter). Sometimes we want to split a string into lines - i.e. the delimiter is the [carriage return](http://en.wikipedia.org/wiki/Carriage_return). This can be surprisingly tricky because different computing platforms (e.g. Windows, Linux, MacOS) use different characters to represent a carriage return. For example, Unix uses `\\n`. Luckly Python provides a *cross platform* way of doing this so regardless of what platform created the data file, or what platform you are running Python on, it will do the *right thing*: "
   ]
  },
  {
   "cell_type": "code",
   "execution_count": 249,
   "metadata": {
    "execution": {
     "iopub.execute_input": "2021-09-02T14:09:01.723985Z",
     "iopub.status.busy": "2021-09-02T14:09:01.722929Z",
     "iopub.status.idle": "2021-09-02T14:09:01.726783Z",
     "shell.execute_reply": "2021-09-02T14:09:01.726281Z"
    }
   },
   "outputs": [
    {
     "name": "stdout",
     "output_type": "stream",
     "text": [
      "original t =\n",
      "1st line\n",
      "2nd line\n",
      "3rd line\n"
     ]
    }
   ],
   "source": [
    "t = \"1st line\\n2nd line\\n3rd line\"\n",
    "\n",
    "print(f\"original t =\\n{t}\")"
   ]
  },
  {
   "cell_type": "code",
   "execution_count": 250,
   "metadata": {
    "execution": {
     "iopub.execute_input": "2021-09-02T14:09:01.732564Z",
     "iopub.status.busy": "2021-09-02T14:09:01.731469Z",
     "iopub.status.idle": "2021-09-02T14:09:01.736293Z",
     "shell.execute_reply": "2021-09-02T14:09:01.735638Z"
    }
   },
   "outputs": [
    {
     "name": "stdout",
     "output_type": "stream",
     "text": [
      "['1st line', '2nd line', '3rd line']\n"
     ]
    }
   ],
   "source": [
    "# This works here but will give you problems if you are switching\n",
    "# files between Windows and either Mac or Linux.\n",
    "print(t.split(\"\\n\"))"
   ]
  },
  {
   "cell_type": "code",
   "execution_count": 251,
   "metadata": {
    "execution": {
     "iopub.execute_input": "2021-09-02T14:09:01.741950Z",
     "iopub.status.busy": "2021-09-02T14:09:01.741378Z",
     "iopub.status.idle": "2021-09-02T14:09:01.745295Z",
     "shell.execute_reply": "2021-09-02T14:09:01.744795Z"
    }
   },
   "outputs": [
    {
     "name": "stdout",
     "output_type": "stream",
     "text": [
      "['1st line', '2nd line', '3rd line']\n"
     ]
    }
   ],
   "source": [
    "# Cross platform (i.e. better) solution\n",
    "print(t.splitlines())"
   ]
  },
  {
   "cell_type": "markdown",
   "metadata": {},
   "source": [
    "### Stripping off leading/trailing whitespace\n",
    "When processing text from a file and composing new strings, we frequently need to trim leading and trailing whitespaces:"
   ]
  },
  {
   "cell_type": "code",
   "execution_count": 252,
   "metadata": {
    "execution": {
     "iopub.execute_input": "2021-09-02T14:09:01.753566Z",
     "iopub.status.busy": "2021-09-02T14:09:01.752186Z",
     "iopub.status.idle": "2021-09-02T14:09:01.756249Z",
     "shell.execute_reply": "2021-09-02T14:09:01.754999Z"
    }
   },
   "outputs": [
    {
     "name": "stdout",
     "output_type": "stream",
     "text": [
      "-->text with leading and trailing spaces<--\n"
     ]
    }
   ],
   "source": [
    "s = \"        text with leading and trailing spaces          \\n\"\n",
    "print(\"-->%s<--\" % s.strip())"
   ]
  },
  {
   "cell_type": "code",
   "execution_count": 253,
   "metadata": {
    "execution": {
     "iopub.execute_input": "2021-09-02T14:09:01.761620Z",
     "iopub.status.busy": "2021-09-02T14:09:01.761031Z",
     "iopub.status.idle": "2021-09-02T14:09:01.766124Z",
     "shell.execute_reply": "2021-09-02T14:09:01.766669Z"
    }
   },
   "outputs": [
    {
     "name": "stdout",
     "output_type": "stream",
     "text": [
      "-->text with leading and trailing spaces          \n",
      "<--\n"
     ]
    }
   ],
   "source": [
    "# left strip\n",
    "print(\"-->%s<--\" % s.lstrip())"
   ]
  },
  {
   "cell_type": "code",
   "execution_count": 254,
   "metadata": {
    "execution": {
     "iopub.execute_input": "2021-09-02T14:09:01.771306Z",
     "iopub.status.busy": "2021-09-02T14:09:01.770734Z",
     "iopub.status.idle": "2021-09-02T14:09:01.776096Z",
     "shell.execute_reply": "2021-09-02T14:09:01.775605Z"
    }
   },
   "outputs": [
    {
     "name": "stdout",
     "output_type": "stream",
     "text": [
      "-->        text with leading and trailing spaces<--\n"
     ]
    }
   ],
   "source": [
    "# right strip\n",
    "print(\"-->%s<--\" % s.rstrip())"
   ]
  },
  {
   "cell_type": "markdown",
   "metadata": {},
   "source": [
    "Please note that carriage return is considered as a whitespace character as well."
   ]
  },
  {
   "cell_type": "markdown",
   "metadata": {},
   "source": [
    "### `join()` - the opposite of `split()`\n",
    "We can join a list of substrings to form a new string. Similar to `split()`, we put strings together with a delimiter inbetween:"
   ]
  },
  {
   "cell_type": "code",
   "execution_count": 255,
   "metadata": {
    "execution": {
     "iopub.execute_input": "2021-09-02T14:09:01.781184Z",
     "iopub.status.busy": "2021-09-02T14:09:01.780590Z",
     "iopub.status.idle": "2021-09-02T14:09:01.784461Z",
     "shell.execute_reply": "2021-09-02T14:09:01.784947Z"
    }
   },
   "outputs": [
    {
     "name": "stdout",
     "output_type": "stream",
     "text": [
      "Newton, Secant, Bisection\n"
     ]
    }
   ],
   "source": [
    "strings = [\"Newton\", \"Secant\", \"Bisection\"]\n",
    "print(\", \".join(strings))"
   ]
  },
  {
   "cell_type": "markdown",
   "metadata": {},
   "source": [
    "You can prove to yourself that these are inverse operations:\n",
    "```python\n",
    "t = delimiter.join(stringlist)\n",
    "stringlist = t.split(delimiter)\n",
    "```"
   ]
  },
  {
   "cell_type": "markdown",
   "metadata": {},
   "source": [
    "As an example, let's split off the first two words on a line:"
   ]
  },
  {
   "cell_type": "code",
   "execution_count": 256,
   "metadata": {
    "execution": {
     "iopub.execute_input": "2021-09-02T14:09:01.793595Z",
     "iopub.status.busy": "2021-09-02T14:09:01.793031Z",
     "iopub.status.idle": "2021-09-02T14:09:01.804842Z",
     "shell.execute_reply": "2021-09-02T14:09:01.805291Z"
    }
   },
   "outputs": [
    {
     "name": "stdout",
     "output_type": "stream",
     "text": [
      "words =  ['This', 'is', 'a', 'line', 'of', 'words', 'separated', 'by', 'space']\n",
      "line2 =  a line of words separated by space\n"
     ]
    }
   ],
   "source": [
    "line = \"This is a line of words separated by space\"\n",
    "words = line.split()\n",
    "print(\"words = \", words)\n",
    "line2 = \" \".join(words[2:])\n",
    "print(\"line2 = \", line2)"
   ]
  },
  {
   "cell_type": "markdown",
   "metadata": {},
   "source": [
    "## Exercise 4.4: Improve a program\n",
    "\n",
    "The file [data/densities.dat](./data/densities.dat) contains a table of densities of various substances measured in $\\text{gcm}^{-3}$. The following program reads the data in this file and produces a dictionary whose keys are the names of substances, and the values are the corresponding densities."
   ]
  },
  {
   "cell_type": "code",
   "execution_count": 257,
   "metadata": {
    "execution": {
     "iopub.execute_input": "2021-09-02T14:09:01.811919Z",
     "iopub.status.busy": "2021-09-02T14:09:01.810628Z",
     "iopub.status.idle": "2021-09-02T14:09:01.818892Z",
     "shell.execute_reply": "2021-09-02T14:09:01.818380Z"
    }
   },
   "outputs": [
    {
     "name": "stdout",
     "output_type": "stream",
     "text": [
      "{'air': 0.0012, 'gasoline': 0.67, 'ice': 0.9, 'pure water': 1.0, 'seawater': 1.025, 'human body': 1.03, 'limestone': 2.6, 'granite': 2.7, 'iron': 7.8, 'silver': 10.5, 'mercury': 13.6, 'gold': 18.9, 'platinium': 21.4, 'Earth mean': 5.52, 'Earth core': 13.0, 'Moon': 3.3, 'Sun mean': 1.4, 'Sun core': 160.0, 'proton': 280000000000000.0}\n"
     ]
    }
   ],
   "source": [
    "def read_densities(filename):\n",
    "    infile = open(filename, 'r')\n",
    "    densities = {}\n",
    "    for line in infile:\n",
    "        words = line.split()\n",
    "        density = float(words[-1])\n",
    "\n",
    "        if len(words[:-1]) == 2:\n",
    "            substance = words[0] + ' ' + words[1]\n",
    "        else:\n",
    "            substance = words[0]\n",
    "\n",
    "        densities[substance] = density\n",
    "\n",
    "    infile.close()\n",
    "    return densities\n",
    "\n",
    "\n",
    "densities = read_densities('data/densities.dat')\n",
    "print(densities)"
   ]
  },
  {
   "cell_type": "markdown",
   "metadata": {},
   "source": [
    "One problem we face when implementing the program above is that the name of the substance can contain one or two words, and maybe more words in a more comprehensive table. The purpose of this exercise is to use string operations to shorten the code and make it more general. Implement the following two methods in separate functions `read_densities_join` and `read_densities_substrings`, and control that they give the same result.\n",
    "\n",
    "1. In `read_densities_join`, let *substance* consist of all the words but the last and use the `join()` method to combine the words. Replace any spaces between words in substances with underscore.\n",
    "2. In `read_densities_substrings`, observe that all the densities (numerical values) start in the same column, and use substrings to divide line into two parts. Replace any spaces between words in substances with underscore. (**Hint**: Remember to strip the first part such that, e.g. the density of ice is obtained as `densities['ice']` and not `densities['ice     ']`.)"
   ]
  },
  {
   "cell_type": "code",
   "execution_count": 269,
   "metadata": {
    "execution": {
     "iopub.execute_input": "2021-09-02T14:09:01.823494Z",
     "iopub.status.busy": "2021-09-02T14:09:01.822152Z",
     "iopub.status.idle": "2021-09-02T14:09:01.824123Z",
     "shell.execute_reply": "2021-09-02T14:09:01.824654Z"
    }
   },
   "outputs": [
    {
     "name": "stdout",
     "output_type": "stream",
     "text": [
      "{'air': 0.0012, 'gasoline': 0.67, 'ice': 0.9, 'wpureapuretpureepurer': 1.0, 'seawater': 1.025, 'bhumanohumandhumany': 1.03, 'limestone': 2.6, 'granite': 2.7, 'iron': 7.8, 'silver': 10.5, 'mercury': 13.6, 'gold': 18.9, 'platinium': 21.4, 'mEartheEarthaEarthn': 5.52, 'cEarthoEarthrEarthe': 13.0, 'Moon': 3.3, 'mSuneSunaSunn': 1.4, 'cSunoSunrSune': 160.0, 'proton': 280000000000000.0}\n"
     ]
    },
    {
     "data": {
      "text/plain": [
       "{'air': 0.0012,\n",
       " 'gasoline': 0.67,\n",
       " 'ice': 0.9,\n",
       " 'wpureapuretpureepurer': 1.0,\n",
       " 'seawater': 1.025,\n",
       " 'bhumanohumandhumany': 1.03,\n",
       " 'limestone': 2.6,\n",
       " 'granite': 2.7,\n",
       " 'iron': 7.8,\n",
       " 'silver': 10.5,\n",
       " 'mercury': 13.6,\n",
       " 'gold': 18.9,\n",
       " 'platinium': 21.4,\n",
       " 'mEartheEarthaEarthn': 5.52,\n",
       " 'cEarthoEarthrEarthe': 13.0,\n",
       " 'Moon': 3.3,\n",
       " 'mSuneSunaSunn': 1.4,\n",
       " 'cSunoSunrSune': 160.0,\n",
       " 'proton': 280000000000000.0}"
      ]
     },
     "execution_count": 269,
     "metadata": {},
     "output_type": "execute_result"
    }
   ],
   "source": [
    "# Uncomment and modify the following code. Do not change variable names for testing purposes.\n",
    "\n",
    "def read_densities_join(filename):\n",
    "    infile = open(filename, 'r')\n",
    "    densities = {}\n",
    "    for line in infile:\n",
    "        words = line.split()\n",
    "        density = float(words[-1])\n",
    "\n",
    "        if len(words[:-1]) == 2:\n",
    "            substance = words[0].join(words[1])\n",
    "        else:\n",
    "            substance = words[0]\n",
    "\n",
    "        densities[substance] = density\n",
    "\n",
    "    infile.close()\n",
    "    print(densities)\n",
    "    return densities\n",
    "\n",
    "read_densities_join('./data/densities.dat')    \n",
    "\n",
    "# def read_densities_substrings(filename):\n",
    "#     ..."
   ]
  },
  {
   "cell_type": "code",
   "execution_count": 266,
   "metadata": {
    "execution": {
     "iopub.execute_input": "2021-09-02T14:09:01.835947Z",
     "iopub.status.busy": "2021-09-02T14:09:01.835385Z",
     "iopub.status.idle": "2021-09-02T14:09:01.908549Z",
     "shell.execute_reply": "2021-09-02T14:09:01.907986Z"
    },
    "tags": [
     "pybryt"
    ]
   },
   "outputs": [
    {
     "name": "stdout",
     "output_type": "stream",
     "text": [
      "REFERENCE: exercise-4_4_1\n",
      "SATISFIED: False\n",
      "MESSAGES:\n",
      "  - ERROR: Hmmm... It seems you are either not extracting densities or not adding constants to the dictionary.\n",
      "  - SUCCESS: Great! You are iterating through the file line by line.\n",
      "  - SUCCESS: Great! You create an empty dictionary before the loop.\n",
      "  - SUCCESS: You split lines into fragments. Well done!\n",
      "  - ERROR: Your implementation of read_densities_join does not return the correct dictionary.\n"
     ]
    }
   ],
   "source": [
    "with pybryt.check(pybryt_reference(4, '4_1')):\n",
    "    read_densities_join('./data/densities.dat')"
   ]
  },
  {
   "cell_type": "code",
   "execution_count": 264,
   "metadata": {
    "execution": {
     "iopub.execute_input": "2021-09-02T14:09:01.913492Z",
     "iopub.status.busy": "2021-09-02T14:09:01.912919Z",
     "iopub.status.idle": "2021-09-02T14:09:01.979001Z",
     "shell.execute_reply": "2021-09-02T14:09:01.979483Z"
    },
    "tags": [
     "pybryt"
    ]
   },
   "outputs": [
    {
     "name": "stdout",
     "output_type": "stream",
     "text": [
      "REFERENCE: exercise-4_4_2\n",
      "SATISFIED: False\n",
      "MESSAGES:\n",
      "  - ERROR: Hmmm... It seems you are either not extracting densities or not adding constants to the dictionary.\n",
      "  - ERROR: Please think about iterating through the file line by line.\n",
      "  - ERROR: You did not create an empty dictionary before the loop.\n",
      "  - SUCCESS: You do not split lines into fragments. Well done!\n",
      "  - ERROR: Your implementation of read_densities_substrings does not return the correct dictionary.\n"
     ]
    },
    {
     "ename": "NameError",
     "evalue": "name 'read_densities_substrings' is not defined",
     "output_type": "error",
     "traceback": [
      "\u001b[1;31m---------------------------------------------------------------------------\u001b[0m",
      "\u001b[1;31mNameError\u001b[0m                                 Traceback (most recent call last)",
      "\u001b[1;32m<ipython-input-264-871887927d94>\u001b[0m in \u001b[0;36m<module>\u001b[1;34m\u001b[0m\n\u001b[0;32m      1\u001b[0m \u001b[1;32mwith\u001b[0m \u001b[0mpybryt\u001b[0m\u001b[1;33m.\u001b[0m\u001b[0mcheck\u001b[0m\u001b[1;33m(\u001b[0m\u001b[0mpybryt_reference\u001b[0m\u001b[1;33m(\u001b[0m\u001b[1;36m4\u001b[0m\u001b[1;33m,\u001b[0m \u001b[1;34m'4_2'\u001b[0m\u001b[1;33m)\u001b[0m\u001b[1;33m)\u001b[0m\u001b[1;33m:\u001b[0m\u001b[1;33m\u001b[0m\u001b[1;33m\u001b[0m\u001b[0m\n\u001b[1;32m----> 2\u001b[1;33m     \u001b[0mread_densities_substrings\u001b[0m\u001b[1;33m(\u001b[0m\u001b[1;34m'./data/densities.dat'\u001b[0m\u001b[1;33m)\u001b[0m\u001b[1;33m\u001b[0m\u001b[1;33m\u001b[0m\u001b[0m\n\u001b[0m",
      "\u001b[1;31mNameError\u001b[0m: name 'read_densities_substrings' is not defined"
     ]
    }
   ],
   "source": [
    "with pybryt.check(pybryt_reference(4, '4_2')):\n",
    "    read_densities_substrings('./data/densities.dat')"
   ]
  },
  {
   "cell_type": "code",
   "execution_count": 267,
   "metadata": {
    "execution": {
     "iopub.execute_input": "2021-09-02T14:09:01.982952Z",
     "iopub.status.busy": "2021-09-02T14:09:01.982385Z",
     "iopub.status.idle": "2021-09-02T14:09:02.009582Z",
     "shell.execute_reply": "2021-09-02T14:09:02.010032Z"
    },
    "tags": [
     "okpy"
    ]
   },
   "outputs": [
    {
     "name": "stdout",
     "output_type": "stream",
     "text": [
      "~~~~~~~~~~~~~~~~~~~~~~~~~~~~~~~~~~~~~~~~~~~~~~~~~~~~~~~~~~~~~~~~~~~~~\n",
      "Running tests\n",
      "\n",
      "---------------------------------------------------------------------\n",
      "question 4.4 > Suite 1 > Case 1\n",
      "\n",
      "f='data/densities.dat';densities_join=read_densities_join(f);densities_substrings=read_densities_substrings(f)\n",
      "NameError: name 'read_densities_substrings' is not defined\n",
      "\n",
      "Run only this test case with \"python3 ok -q exercise-4_4 --suite 1 --case 1\"\n",
      "---------------------------------------------------------------------\n",
      "Test summary\n",
      "    Passed: 0\n",
      "    Failed: 1\n",
      "[k..........] 0.0% passed\n",
      "\n"
     ]
    },
    {
     "data": {
      "text/plain": [
       "{'passed': 0, 'failed': 1, 'locked': 0}"
      ]
     },
     "execution_count": 267,
     "metadata": {},
     "output_type": "execute_result"
    }
   ],
   "source": [
    "ok.grade('exercise-4_4')"
   ]
  },
  {
   "cell_type": "markdown",
   "metadata": {},
   "source": [
    "## Class: encapsulating variables/data and functions\n",
    "\n",
    "A class encapsulates variables/data and functions into one single unit. As a programmer, you can create a new class and thereby a new **object type** (similar to those you have already encountered - `int`, `float`, `string`, `list`, `file`, etc.). Once you have created a class you can create many instances of that type as you wish, just as you can have many `int` or `float` objects.\n",
    "\n",
    "Modern programming makes heavy use of classes and object orientated programming to manage software complexity, making these important concepts to understand. However, for non-trivial applications the design of good abstractions and classes requires careful consideration, otherwise one can unintentionally increase complexity and hurt the performance of your code. Therefore, you should consider this lecture merely as a gentle introduction illustrated with some simple examples."
   ]
  },
  {
   "cell_type": "markdown",
   "metadata": {},
   "source": [
    "## Representing a function by a class\n",
    "\n",
    "Consider a function of $t$ with a parameter $v_0$:\n",
    "\n",
    "$$ y(t: v_0, g)=v_0t - {1\\over2}gt^2 $$\n",
    "\n",
    "We need both $v_0$, $g$ and $t$ to evaluate $y$. How might we implement this?"
   ]
  },
  {
   "cell_type": "markdown",
   "metadata": {},
   "source": [
    "One option is to assume we will always pass in all variables as arguments:\n",
    "```python\n",
    "def y(t, v0, g=9.81):\n",
    "    return v0*t - 0.5*g*t**2\n",
    "```\n",
    "This looks like a reasonable solution when there are only a couple of parameters. But the software complexity quickly gets out of hand as the number of variables increases (I have worked on legacy codes that had function argument lists that were hundreds of lines long because there was no notion of encapsulation!)\n",
    "\n",
    "Alternatively we might define `v0` and `g` as global variables:\n",
    "```python\n",
    "g = 9.81\n",
    "v0 = ...\n",
    "\n",
    "...\n",
    "\n",
    "def y(t):\n",
    "    return v0*t - 0.5*g*t**2\n",
    "```\n",
    "However, the use of global variables is strongly discouraged for many reasons, e.g. very error prone, increased risk of namespace pollution (variables being clobbered when you import a Python module), makes it difficult to manage instances where there might be multiple values for the global variable within the same context, etc."
   ]
  },
  {
   "cell_type": "markdown",
   "metadata": {},
   "source": [
    "Let us look at how we might instead implement this as a class.\n",
    "\n",
    "While we will not cover it in detail here, it is worth noting that professional developers often use [UML (Unified Modeling Language)](http://en.wikipedia.org/wiki/Unified_Modeling_Language) to illustrate the design of a class. Here is a UML diagram for this example:\n",
    "\n",
    "![Simple UML example](https://github.com/ggorman/Introduction-to-programming-for-geoscientists/raw/master/notebook/images/class_Y_UML.png)\n",
    "\n",
    "For this example `class Y` for $y(t: v_0, g)$ has variables `v0` and `g` and a function `value` for computing $y(t: v_0, g)$. Often classes also have the special function `__init__` for initialising class variables.\n",
    "\n",
    "Here is an implementation of this class:"
   ]
  },
  {
   "cell_type": "code",
   "execution_count": 271,
   "metadata": {
    "execution": {
     "iopub.execute_input": "2021-09-02T14:09:02.025512Z",
     "iopub.status.busy": "2021-09-02T14:09:02.024060Z",
     "iopub.status.idle": "2021-09-02T14:09:02.026139Z",
     "shell.execute_reply": "2021-09-02T14:09:02.026610Z"
    }
   },
   "outputs": [],
   "source": [
    "class Y:\n",
    "    def __init__(self, v0, g=9.81):\n",
    "        self.v0 = v0\n",
    "        self.g = g\n",
    "\n",
    "    def value(self, t):\n",
    "        return self.v0*t - 0.5*self.g*t**2"
   ]
  },
  {
   "cell_type": "markdown",
   "metadata": {},
   "source": [
    "An example of its usage: "
   ]
  },
  {
   "cell_type": "code",
   "execution_count": 272,
   "metadata": {
    "execution": {
     "iopub.execute_input": "2021-09-02T14:09:02.032020Z",
     "iopub.status.busy": "2021-09-02T14:09:02.031447Z",
     "iopub.status.idle": "2021-09-02T14:09:02.035328Z",
     "shell.execute_reply": "2021-09-02T14:09:02.034837Z"
    }
   },
   "outputs": [
    {
     "name": "stdout",
     "output_type": "stream",
     "text": [
      "0.25095\n"
     ]
    }
   ],
   "source": [
    "y = Y(v0=3)       # Create instance\n",
    "v = y.value(0.1)  # Compute function value\n",
    "\n",
    "print(v)"
   ]
  },
  {
   "cell_type": "markdown",
   "metadata": {},
   "source": [
    "When we write `y = Y(v0=3)` we create a new *instance* of *type `Y`*.\n",
    "\n",
    "`Y(3)` is a call to the constructor:\n",
    "\n",
    "```python\n",
    "def __init__(self, v0, g=9.81):\n",
    "    self.v0 = v0\n",
    "    self.g = g\n",
    "```"
   ]
  },
  {
   "cell_type": "markdown",
   "metadata": {},
   "source": [
    "Think of `self` as `y`, i.e. the new variable to be created. `self.v0` means that we attach a variable `v0` to self (`y`).\n",
    "\n",
    "```python\n",
    "Y.__init__(y, 3)   # is the logic behind Y(3)\n",
    "```\n",
    "\n",
    "`self` is always the first argument/parameter in a function, but **never** inserted in the call! After `y = Y(3)`, `y` has two variables `v0` and `g`, and we can take a look at these:"
   ]
  },
  {
   "cell_type": "code",
   "execution_count": 273,
   "metadata": {
    "execution": {
     "iopub.execute_input": "2021-09-02T14:09:02.041338Z",
     "iopub.status.busy": "2021-09-02T14:09:02.040582Z",
     "iopub.status.idle": "2021-09-02T14:09:02.047052Z",
     "shell.execute_reply": "2021-09-02T14:09:02.047936Z"
    }
   },
   "outputs": [
    {
     "name": "stdout",
     "output_type": "stream",
     "text": [
      "3\n",
      "9.81\n"
     ]
    }
   ],
   "source": [
    "print(y.v0)\n",
    "print(y.g)"
   ]
  },
  {
   "cell_type": "markdown",
   "metadata": {},
   "source": [
    "Functions in classes are called **methods**. Variables in classes are called **attributes**. Therefore, in the above example the `value` *method* was\n",
    "\n",
    "```python\n",
    "def value(self, t):\n",
    "  return self.v0*t - 0.5*self.g*t**2\n",
    "```"
   ]
  },
  {
   "cell_type": "markdown",
   "metadata": {},
   "source": [
    "Example on a call:"
   ]
  },
  {
   "cell_type": "code",
   "execution_count": 274,
   "metadata": {
    "execution": {
     "iopub.execute_input": "2021-09-02T14:09:02.052796Z",
     "iopub.status.busy": "2021-09-02T14:09:02.051416Z",
     "iopub.status.idle": "2021-09-02T14:09:02.053430Z",
     "shell.execute_reply": "2021-09-02T14:09:02.053897Z"
    }
   },
   "outputs": [],
   "source": [
    "v = y.value(t=0.1)"
   ]
  },
  {
   "cell_type": "markdown",
   "metadata": {},
   "source": [
    "`self` is left out in the call (as discussed above), but Python automatically inserts `y` as the `self` argument inside the `value` method. Inside the `value` *method* things *appear* as\n",
    "\n",
    "```python\n",
    "return y.v0*t - 0.5*y.g*t**2\n",
    "```"
   ]
  },
  {
   "cell_type": "markdown",
   "metadata": {},
   "source": [
    "The method `value` has, through `self`, access to the attributes. Attributes are like *global variables* in the class, and any method gets a `self` parameter as its first argument. The method can then access the attributes of the class through `self`."
   ]
  },
  {
   "cell_type": "markdown",
   "metadata": {},
   "source": [
    "In summary, `class Y` collects the attributes `v0` and `g` and the method `value` together as a single unit. `value(t)` is function of `t` only, but has access to the class attributes `v0` and `g`.\n",
    "\n",
    "The great feature of Python is that we can send `y.value` as an ordinary function of `t` to any other function that expects a function `f(t)`:"
   ]
  },
  {
   "cell_type": "code",
   "execution_count": 275,
   "metadata": {
    "execution": {
     "iopub.execute_input": "2021-09-02T14:09:02.059562Z",
     "iopub.status.busy": "2021-09-02T14:09:02.058289Z",
     "iopub.status.idle": "2021-09-02T14:09:02.060190Z",
     "shell.execute_reply": "2021-09-02T14:09:02.060690Z"
    }
   },
   "outputs": [],
   "source": [
    "import numpy as np\n",
    "\n",
    "\n",
    "def table(f, tstop, n):\n",
    "    \"\"\"Make a table of t, f(t) values.\"\"\"\n",
    "    for t in np.linspace(0, tstop, n):\n",
    "        print(t, f(t))"
   ]
  },
  {
   "cell_type": "code",
   "execution_count": 276,
   "metadata": {
    "execution": {
     "iopub.execute_input": "2021-09-02T14:09:02.069219Z",
     "iopub.status.busy": "2021-09-02T14:09:02.068596Z",
     "iopub.status.idle": "2021-09-02T14:09:02.088418Z",
     "shell.execute_reply": "2021-09-02T14:09:02.085461Z"
    }
   },
   "outputs": [
    {
     "name": "stdout",
     "output_type": "stream",
     "text": [
      "0.0 0.0\n",
      "1.5707963267948966 0.20787957635076193\n",
      "3.141592653589793 5.292178668034404e-18\n",
      "4.71238898038469 -0.008983291021129429\n",
      "6.283185307179586 -4.573915527954357e-19\n"
     ]
    }
   ],
   "source": [
    "def g(t):\n",
    "    return np.sin(t)*np.exp(-t)\n",
    "\n",
    "\n",
    "table(g, 2*np.pi, 5)  # pass in ordinary function as first argument"
   ]
  },
  {
   "cell_type": "code",
   "execution_count": 277,
   "metadata": {
    "execution": {
     "iopub.execute_input": "2021-09-02T14:09:02.092995Z",
     "iopub.status.busy": "2021-09-02T14:09:02.092284Z",
     "iopub.status.idle": "2021-09-02T14:09:02.108417Z",
     "shell.execute_reply": "2021-09-02T14:09:02.105830Z"
    }
   },
   "outputs": [
    {
     "name": "stdout",
     "output_type": "stream",
     "text": [
      "0.0 0.0\n",
      "1.5707963267948966 -1.892426272668997\n",
      "3.141592653589793 -27.990057339009645\n",
      "4.71238898038469 -78.29289319902196\n",
      "6.283185307179586 -152.8009338527059\n"
     ]
    }
   ],
   "source": [
    "y = Y(6.5)\n",
    "table(y.value, 2*np.pi, 5)  # pass in class method as first argument"
   ]
  },
  {
   "cell_type": "markdown",
   "metadata": {},
   "source": [
    "## Exercise 4.5: Make a class for function evaluation.\n",
    "Make a class called `F` that implements the function\n",
    "\n",
    "$$f(x: a, w) = e^{−ax}\\sin(wx).$$\n",
    "\n",
    "A `value(x)` method computes values of $f$ for a given $x$, while $a$ and $w$ are class attributes as specified as arguments in the class's `__init__` method."
   ]
  },
  {
   "cell_type": "code",
   "execution_count": 278,
   "metadata": {
    "execution": {
     "iopub.execute_input": "2021-09-02T14:09:02.112516Z",
     "iopub.status.busy": "2021-09-02T14:09:02.111895Z",
     "iopub.status.idle": "2021-09-02T14:09:02.116946Z",
     "shell.execute_reply": "2021-09-02T14:09:02.117388Z"
    }
   },
   "outputs": [],
   "source": [
    "# Uncomment and complete this code - keep the names the same for testing purposes.\n",
    "\n",
    "from math import exp,sin\n",
    "class F:\n",
    "    def __init__(self, a, w):\n",
    "        self.w=w\n",
    "        self.a=a\n",
    "    def value(self, x):\n",
    "        return exp(-self.a*x)*sin(self.w*x)\n",
    "        \n"
   ]
  },
  {
   "cell_type": "code",
   "execution_count": 279,
   "metadata": {
    "execution": {
     "iopub.execute_input": "2021-09-02T14:09:02.129367Z",
     "iopub.status.busy": "2021-09-02T14:09:02.128807Z",
     "iopub.status.idle": "2021-09-02T14:09:02.145818Z",
     "shell.execute_reply": "2021-09-02T14:09:02.145325Z"
    },
    "tags": [
     "pybryt"
    ]
   },
   "outputs": [
    {
     "name": "stdout",
     "output_type": "stream",
     "text": [
      "REFERENCE: exercise-4_5\n",
      "SATISFIED: True\n",
      "MESSAGES:\n",
      "  - SUCCESS: You initialise the attribute a correctly. Well done!\n",
      "  - SUCCESS: You initialise the attribute w correctly. Well done!\n",
      "  - SUCCESS: Wow! Your implementation of the value method is correct.\n"
     ]
    }
   ],
   "source": [
    "with pybryt.check(pybryt_reference(4, 5)):\n",
    "    f = F(0.73, 1.14185)\n",
    "    f.a, f.w, f.value(3)"
   ]
  },
  {
   "cell_type": "code",
   "execution_count": 280,
   "metadata": {
    "execution": {
     "iopub.execute_input": "2021-09-02T14:09:02.149585Z",
     "iopub.status.busy": "2021-09-02T14:09:02.149015Z",
     "iopub.status.idle": "2021-09-02T14:09:02.174075Z",
     "shell.execute_reply": "2021-09-02T14:09:02.173564Z"
    },
    "tags": [
     "okpy"
    ]
   },
   "outputs": [
    {
     "name": "stdout",
     "output_type": "stream",
     "text": [
      "~~~~~~~~~~~~~~~~~~~~~~~~~~~~~~~~~~~~~~~~~~~~~~~~~~~~~~~~~~~~~~~~~~~~~\n",
      "Running tests\n",
      "\n",
      "---------------------------------------------------------------------\n",
      "Test summary\n",
      "    Passed: 1\n",
      "    Failed: 0\n",
      "[ooooooooook] 100.0% passed\n",
      "\n"
     ]
    },
    {
     "data": {
      "text/plain": [
       "{'passed': 1, 'failed': 0, 'locked': 0}"
      ]
     },
     "execution_count": 280,
     "metadata": {},
     "output_type": "execute_result"
    }
   ],
   "source": [
    "ok.grade('exercise-4_5')"
   ]
  },
  {
   "cell_type": "markdown",
   "metadata": {},
   "source": [
    "## Exercise 4.6: Make a simple class\n",
    "\n",
    "Make a class called `Simple` with:\n",
    "* one attribute, `i`,\n",
    "* one method `double` that replaces the value of `i` by `2*i`, and\n",
    "* an `__init__` method that initializes the attribute `i`. \n",
    "\n",
    "Use the following code snippet to convince yourself that your class is behaving as expected.\n",
    "\n",
    "```python\n",
    "s1 = Simple(4)\n",
    "for i in range(4):\n",
    "    s1.double()\n",
    "print(s1.i)\n",
    "\n",
    "s2 = Simple('Hello')\n",
    "s2.double(); s2.double()\n",
    "print(s2.i)\n",
    "s2.i = 100\n",
    "print(s2.i)\n",
    "```"
   ]
  },
  {
   "cell_type": "code",
   "execution_count": 313,
   "metadata": {
    "execution": {
     "iopub.execute_input": "2021-09-02T14:09:02.187172Z",
     "iopub.status.busy": "2021-09-02T14:09:02.186566Z",
     "iopub.status.idle": "2021-09-02T14:09:02.189289Z",
     "shell.execute_reply": "2021-09-02T14:09:02.188752Z"
    }
   },
   "outputs": [
    {
     "data": {
      "text/plain": [
       "401.02"
      ]
     },
     "execution_count": 313,
     "metadata": {},
     "output_type": "execute_result"
    }
   ],
   "source": [
    "# Uncomment and complete this code - keep the names the same for testing purposes.\n",
    "\n",
    "class Simple:\n",
    "    def __init__(self, i):\n",
    "            self.i=i\n",
    "    def double(self):\n",
    "        self.i= 2*self.i\n",
    "        #print(i)\n",
    "        return self.i\n",
    "\n",
    "simple=Simple(200.51)\n",
    "simple.double()"
   ]
  },
  {
   "cell_type": "code",
   "execution_count": 314,
   "metadata": {
    "execution": {
     "iopub.execute_input": "2021-09-02T14:09:02.201325Z",
     "iopub.status.busy": "2021-09-02T14:09:02.200720Z",
     "iopub.status.idle": "2021-09-02T14:09:02.252123Z",
     "shell.execute_reply": "2021-09-02T14:09:02.251596Z"
    },
    "tags": [
     "pybryt"
    ]
   },
   "outputs": [
    {
     "name": "stdout",
     "output_type": "stream",
     "text": [
      "REFERENCE: exercise-4_6\n",
      "SATISFIED: True\n",
      "MESSAGES:\n",
      "  - SUCCESS: Your implementation of double method is correct. Well done!\n",
      "  - SUCCESS: You initialise the attribute a correctly. Well done!\n",
      "  - SUCCESS: Wow! Your implementation of class Simple is correct.\n"
     ]
    }
   ],
   "source": [
    "with pybryt.check(pybryt_reference(4, 6)):\n",
    "    simple = Simple(200.51)\n",
    "    simple.i\n",
    "    for k in range(10):\n",
    "        simple.double()\n",
    "        simple.i"
   ]
  },
  {
   "cell_type": "code",
   "execution_count": 315,
   "metadata": {
    "execution": {
     "iopub.execute_input": "2021-09-02T14:09:02.259200Z",
     "iopub.status.busy": "2021-09-02T14:09:02.258627Z",
     "iopub.status.idle": "2021-09-02T14:09:02.288448Z",
     "shell.execute_reply": "2021-09-02T14:09:02.287896Z"
    },
    "tags": [
     "okpy"
    ]
   },
   "outputs": [
    {
     "name": "stdout",
     "output_type": "stream",
     "text": [
      "~~~~~~~~~~~~~~~~~~~~~~~~~~~~~~~~~~~~~~~~~~~~~~~~~~~~~~~~~~~~~~~~~~~~~\n",
      "Running tests\n",
      "\n",
      "---------------------------------------------------------------------\n",
      "Test summary\n",
      "    Passed: 2\n",
      "    Failed: 0\n",
      "[ooooooooook] 100.0% passed\n",
      "\n"
     ]
    },
    {
     "data": {
      "text/plain": [
       "{'passed': 2, 'failed': 0, 'locked': 0}"
      ]
     },
     "execution_count": 315,
     "metadata": {},
     "output_type": "execute_result"
    }
   ],
   "source": [
    "ok.grade('exercise-4_6')"
   ]
  },
  {
   "cell_type": "markdown",
   "metadata": {},
   "source": [
    "## Another class example: a bank account\n",
    "\n",
    "* **Attributes**:\n",
    "    * `name`: name of the owner\n",
    "    * `number`: account number\n",
    "    * `balance`: balance\n",
    "* **Methods**:\n",
    "    * `deposit`: adds amount to `balance`\n",
    "    * `withdraw`: subtracts amount from `balance`\n",
    "    * `dump`: pretty pring"
   ]
  },
  {
   "cell_type": "code",
   "execution_count": 316,
   "metadata": {
    "execution": {
     "iopub.execute_input": "2021-09-02T14:09:02.302154Z",
     "iopub.status.busy": "2021-09-02T14:09:02.301551Z",
     "iopub.status.idle": "2021-09-02T14:09:02.305468Z",
     "shell.execute_reply": "2021-09-02T14:09:02.304974Z"
    }
   },
   "outputs": [],
   "source": [
    "class Account:\n",
    "    def __init__(self, name, account_number, initial_amount=0):\n",
    "        self.name = name\n",
    "        self.number = account_number\n",
    "        self.balance = initial_amount\n",
    "\n",
    "    def deposit(self, amount):\n",
    "        self.balance += amount  # self.balance += amount is equivalent to self.balance = self.balance + amount\n",
    "\n",
    "    def withdraw(self, amount):\n",
    "        self.balance -= amount  # self.balance -= amount is equivalent to self.balance = self.balance - amount\n",
    "\n",
    "    def dump(self):\n",
    "        print(f'name: {self.name}, account number: {self.number}, balance: {self.balance}')"
   ]
  },
  {
   "cell_type": "code",
   "execution_count": 317,
   "metadata": {
    "execution": {
     "iopub.execute_input": "2021-09-02T14:09:02.310808Z",
     "iopub.status.busy": "2021-09-02T14:09:02.309420Z",
     "iopub.status.idle": "2021-09-02T14:09:02.311435Z",
     "shell.execute_reply": "2021-09-02T14:09:02.311903Z"
    }
   },
   "outputs": [],
   "source": [
    "a1 = Account('John Olsson', '19371554951')\n",
    "a2 = Account('Liz Olsson', '19371564761', 20000)\n",
    "a1.deposit(1000)\n",
    "a1.withdraw(4000)\n",
    "a2.withdraw(10500)\n",
    "a1.withdraw(3500)"
   ]
  },
  {
   "cell_type": "code",
   "execution_count": 318,
   "metadata": {
    "execution": {
     "iopub.execute_input": "2021-09-02T14:09:02.317991Z",
     "iopub.status.busy": "2021-09-02T14:09:02.316947Z",
     "iopub.status.idle": "2021-09-02T14:09:02.320844Z",
     "shell.execute_reply": "2021-09-02T14:09:02.320347Z"
    }
   },
   "outputs": [
    {
     "name": "stdout",
     "output_type": "stream",
     "text": [
      "name: John Olsson, account number: 19371554951, balance: -6500\n"
     ]
    }
   ],
   "source": [
    "a1.dump()"
   ]
  },
  {
   "cell_type": "code",
   "execution_count": 319,
   "metadata": {
    "execution": {
     "iopub.execute_input": "2021-09-02T14:09:02.326126Z",
     "iopub.status.busy": "2021-09-02T14:09:02.325306Z",
     "iopub.status.idle": "2021-09-02T14:09:02.329214Z",
     "shell.execute_reply": "2021-09-02T14:09:02.328718Z"
    }
   },
   "outputs": [
    {
     "name": "stdout",
     "output_type": "stream",
     "text": [
      "name: Liz Olsson, account number: 19371564761, balance: 9500\n"
     ]
    }
   ],
   "source": [
    "a2.dump()"
   ]
  },
  {
   "cell_type": "markdown",
   "metadata": {},
   "source": [
    "## Exercise 4.7: Extend a class\n",
    "\n",
    "Add an attribute called `transactions` to the `Account` class given above. The new attribute counts the number of transactions done in the `deposit` and `withdraw` methods. The total number of transactions should be printed in the `dump` method. Write a simple test program to convince yourself transaction gets the right value after some calls to `deposit` and `withdraw`. When an object of class `Account` is created, attribute `transactions` is initialised to 0."
   ]
  },
  {
   "cell_type": "code",
   "execution_count": 330,
   "metadata": {
    "execution": {
     "iopub.execute_input": "2021-09-02T14:09:02.333882Z",
     "iopub.status.busy": "2021-09-02T14:09:02.332385Z",
     "iopub.status.idle": "2021-09-02T14:09:02.334549Z",
     "shell.execute_reply": "2021-09-02T14:09:02.335020Z"
    }
   },
   "outputs": [],
   "source": [
    "# Uncomment and complete this code - keep the names the same for testing purposes.\n",
    "\n",
    "class Account:\n",
    "    def __init__(self, name, account_number, initial_amount=0, transactions=0):\n",
    "        self.name = name\n",
    "        self.number = account_number\n",
    "        self.balance = initial_amount\n",
    "        self.transactions = transactions\n",
    "\n",
    "    def deposit(self, amount):\n",
    "        self.balance += amount\n",
    "        self.transaction = self.transaction+1\n",
    "        \n",
    "\n",
    "    def withdraw(self, amount):\n",
    "        self.balance -= amount\n",
    "        self.transaction = self.transaction+1\n",
    "\n",
    "    def dump(self):\n",
    "        print(f'name: {self.name}, account number: {self.number}, balance: {self.balance}, transactions: {transactions}')\n",
    "    \n",
    "    \n",
    "    \n",
    "        "
   ]
  },
  {
   "cell_type": "code",
   "execution_count": 331,
   "metadata": {
    "execution": {
     "iopub.execute_input": "2021-09-02T14:09:02.349091Z",
     "iopub.status.busy": "2021-09-02T14:09:02.348463Z",
     "iopub.status.idle": "2021-09-02T14:09:02.447909Z",
     "shell.execute_reply": "2021-09-02T14:09:02.447390Z"
    },
    "tags": [
     "pybryt"
    ]
   },
   "outputs": [
    {
     "name": "stdout",
     "output_type": "stream",
     "text": [
      "REFERENCE: exercise-4_7\n",
      "SATISFIED: False\n",
      "MESSAGES:\n",
      "  - ERROR: Your implementation of deposit method is wrong.\n",
      "  - ERROR: Your implementation of withdraw method is wrong.\n",
      "  - ERROR: You did not implement transactions attribute correctly.\n",
      "  - SUCCESS: You initialise the attribute name correctly. Well done!\n",
      "  - SUCCESS: You initialise the attribute number correctly. Well done!\n",
      "  - SUCCESS: You initialise the attribute balance correctly. Well done!\n",
      "  - SUCCESS: You initialise the attribute transactions correctly. Well done!\n"
     ]
    },
    {
     "ename": "AttributeError",
     "evalue": "'Account' object has no attribute 'transaction'",
     "output_type": "error",
     "traceback": [
      "\u001b[1;31m---------------------------------------------------------------------------\u001b[0m",
      "\u001b[1;31mAttributeError\u001b[0m                            Traceback (most recent call last)",
      "\u001b[1;32m<ipython-input-331-6d10af48904c>\u001b[0m in \u001b[0;36m<module>\u001b[1;34m\u001b[0m\n\u001b[0;32m      4\u001b[0m \u001b[1;33m\u001b[0m\u001b[0m\n\u001b[0;32m      5\u001b[0m     \u001b[1;32mfor\u001b[0m \u001b[0mi\u001b[0m \u001b[1;32min\u001b[0m \u001b[0mrange\u001b[0m\u001b[1;33m(\u001b[0m\u001b[1;36m5\u001b[0m\u001b[1;33m)\u001b[0m\u001b[1;33m:\u001b[0m\u001b[1;33m\u001b[0m\u001b[1;33m\u001b[0m\u001b[0m\n\u001b[1;32m----> 6\u001b[1;33m         \u001b[0maccount\u001b[0m\u001b[1;33m.\u001b[0m\u001b[0mdeposit\u001b[0m\u001b[1;33m(\u001b[0m\u001b[1;36m1001\u001b[0m\u001b[1;33m)\u001b[0m\u001b[1;33m\u001b[0m\u001b[1;33m\u001b[0m\u001b[0m\n\u001b[0m\u001b[0;32m      7\u001b[0m         \u001b[0maccount\u001b[0m\u001b[1;33m.\u001b[0m\u001b[0mbalance\u001b[0m\u001b[1;33m,\u001b[0m \u001b[0maccount\u001b[0m\u001b[1;33m.\u001b[0m\u001b[0mtransactions\u001b[0m\u001b[1;33m\u001b[0m\u001b[1;33m\u001b[0m\u001b[0m\n\u001b[0;32m      8\u001b[0m         \u001b[0maccount\u001b[0m\u001b[1;33m.\u001b[0m\u001b[0mwithdraw\u001b[0m\u001b[1;33m(\u001b[0m\u001b[1;36m432.3\u001b[0m\u001b[1;33m)\u001b[0m\u001b[1;33m\u001b[0m\u001b[1;33m\u001b[0m\u001b[0m\n",
      "\u001b[1;32m<ipython-input-330-88ad3dee95ce>\u001b[0m in \u001b[0;36mdeposit\u001b[1;34m(self, amount)\u001b[0m\n\u001b[0;32m     10\u001b[0m     \u001b[1;32mdef\u001b[0m \u001b[0mdeposit\u001b[0m\u001b[1;33m(\u001b[0m\u001b[0mself\u001b[0m\u001b[1;33m,\u001b[0m \u001b[0mamount\u001b[0m\u001b[1;33m)\u001b[0m\u001b[1;33m:\u001b[0m\u001b[1;33m\u001b[0m\u001b[1;33m\u001b[0m\u001b[0m\n\u001b[0;32m     11\u001b[0m         \u001b[0mself\u001b[0m\u001b[1;33m.\u001b[0m\u001b[0mbalance\u001b[0m \u001b[1;33m+=\u001b[0m \u001b[0mamount\u001b[0m\u001b[1;33m\u001b[0m\u001b[1;33m\u001b[0m\u001b[0m\n\u001b[1;32m---> 12\u001b[1;33m         \u001b[0mself\u001b[0m\u001b[1;33m.\u001b[0m\u001b[0mtransaction\u001b[0m \u001b[1;33m=\u001b[0m \u001b[0mself\u001b[0m\u001b[1;33m.\u001b[0m\u001b[0mtransaction\u001b[0m\u001b[1;33m+\u001b[0m\u001b[1;36m1\u001b[0m\u001b[1;33m\u001b[0m\u001b[1;33m\u001b[0m\u001b[0m\n\u001b[0m\u001b[0;32m     13\u001b[0m \u001b[1;33m\u001b[0m\u001b[0m\n\u001b[0;32m     14\u001b[0m \u001b[1;33m\u001b[0m\u001b[0m\n",
      "\u001b[1;31mAttributeError\u001b[0m: 'Account' object has no attribute 'transaction'"
     ]
    }
   ],
   "source": [
    "with pybryt.check(pybryt_reference(4, 7)):\n",
    "    account = Account('Marijan', '321321321', initial_amount=2351)\n",
    "    account.name, account.number, account.balance, account.transactions\n",
    "\n",
    "    for i in range(5):\n",
    "        account.deposit(1001)\n",
    "        account.balance, account.transactions\n",
    "        account.withdraw(432.3)\n",
    "        account.balance, account.transactions"
   ]
  },
  {
   "cell_type": "code",
   "execution_count": 329,
   "metadata": {
    "execution": {
     "iopub.execute_input": "2021-09-02T14:09:02.455466Z",
     "iopub.status.busy": "2021-09-02T14:09:02.454679Z",
     "iopub.status.idle": "2021-09-02T14:09:02.474581Z",
     "shell.execute_reply": "2021-09-02T14:09:02.475103Z"
    },
    "tags": [
     "okpy"
    ]
   },
   "outputs": [
    {
     "name": "stdout",
     "output_type": "stream",
     "text": [
      "~~~~~~~~~~~~~~~~~~~~~~~~~~~~~~~~~~~~~~~~~~~~~~~~~~~~~~~~~~~~~~~~~~~~~\n",
      "Running tests\n",
      "\n",
      "---------------------------------------------------------------------\n",
      "question 4.7 > Suite 1 > Case 2\n",
      "\n",
      "account = Account(\"Test\", 1, 100)\n",
      "for i in range(5):\n",
      "    account.deposit(50)\n",
      "    account.withdraw(20)\n",
      ">>> account.transactions == 10\n",
      "False\n",
      "\n",
      "# Error: expected\n",
      "#     True\n",
      "# but got\n",
      "#     False\n",
      "\n",
      "Run only this test case with \"python3 ok -q exercise-4_7 --suite 1 --case 2\"\n",
      "---------------------------------------------------------------------\n",
      "Test summary\n",
      "    Passed: 1\n",
      "    Failed: 1\n",
      "[oooook.....] 50.0% passed\n",
      "\n"
     ]
    },
    {
     "data": {
      "text/plain": [
       "{'passed': 1, 'failed': 1, 'locked': 0}"
      ]
     },
     "execution_count": 329,
     "metadata": {},
     "output_type": "execute_result"
    }
   ],
   "source": [
    "ok.grade('exercise-4_7')"
   ]
  },
  {
   "cell_type": "markdown",
   "metadata": {},
   "source": [
    "## Protecting attributes\n",
    "\n",
    "It is not possible in Python to explicitly protect attributes from being overwritten by the calling function, i.e. the following is possible but not intended:"
   ]
  },
  {
   "cell_type": "code",
   "execution_count": null,
   "metadata": {
    "execution": {
     "iopub.execute_input": "2021-09-02T14:09:02.492886Z",
     "iopub.status.busy": "2021-09-02T14:09:02.492322Z",
     "iopub.status.idle": "2021-09-02T14:09:02.495392Z",
     "shell.execute_reply": "2021-09-02T14:09:02.494911Z"
    }
   },
   "outputs": [],
   "source": [
    "a1.name = 'Some other name'\n",
    "a1.balance = 100000\n",
    "a1.no = '19371564768'"
   ]
  },
  {
   "cell_type": "markdown",
   "metadata": {},
   "source": [
    "**Assumptions** on correct usage include:\n",
    "\n",
    "* The attributes should not be modified directly.\n",
    "* The `balance` attribute can be viewed.\n",
    "* Changing `balance` is done through with the methods `draw` and `deposit`.\n",
    "\n",
    "The remedy is to adopt the convention that attributes and methods not intended for use outside the class should be marked as protected by prefixing the name with an underscore (e.g. `_name`). This is just a convention to warn you to stay away from messing with the attribute directly. There is no technical way of stopping attributes and methods from being accessed directly from outside the class.\n",
    "\n",
    "We rewrite the account class using this convention:"
   ]
  },
  {
   "cell_type": "code",
   "execution_count": null,
   "metadata": {
    "execution": {
     "iopub.execute_input": "2021-09-02T14:09:02.500620Z",
     "iopub.status.busy": "2021-09-02T14:09:02.499737Z",
     "iopub.status.idle": "2021-09-02T14:09:02.502859Z",
     "shell.execute_reply": "2021-09-02T14:09:02.503327Z"
    }
   },
   "outputs": [],
   "source": [
    "class AccountP:\n",
    "    def __init__(self, name, account_number, initial_amount):\n",
    "        self._name = name\n",
    "        self._no = account_number\n",
    "        self._balance = initial_amount\n",
    "\n",
    "    def deposit(self, amount):\n",
    "        self._balance += amount\n",
    "\n",
    "    def withdraw(self, amount):\n",
    "        self._balance -= amount\n",
    "\n",
    "    def get_balance(self):    # NEW - read balance value\n",
    "        return self._balance\n",
    "\n",
    "    def dump(self):\n",
    "        s = '%s, %s, balance: %s' % (self._name, self._no, self._balance)\n",
    "        print(s)"
   ]
  },
  {
   "cell_type": "code",
   "execution_count": null,
   "metadata": {
    "execution": {
     "iopub.execute_input": "2021-09-02T14:09:02.507205Z",
     "iopub.status.busy": "2021-09-02T14:09:02.506642Z",
     "iopub.status.idle": "2021-09-02T14:09:02.509871Z",
     "shell.execute_reply": "2021-09-02T14:09:02.510543Z"
    }
   },
   "outputs": [],
   "source": [
    "a1 = AccountP('John Olsson', '19371554951', 20000)\n",
    "a1.withdraw(4000)"
   ]
  },
  {
   "cell_type": "code",
   "execution_count": null,
   "metadata": {
    "execution": {
     "iopub.execute_input": "2021-09-02T14:09:02.516621Z",
     "iopub.status.busy": "2021-09-02T14:09:02.515768Z",
     "iopub.status.idle": "2021-09-02T14:09:02.519593Z",
     "shell.execute_reply": "2021-09-02T14:09:02.519100Z"
    }
   },
   "outputs": [],
   "source": [
    "print(a1._balance)      # it works, but a convention is broken"
   ]
  },
  {
   "cell_type": "code",
   "execution_count": null,
   "metadata": {
    "execution": {
     "iopub.execute_input": "2021-09-02T14:09:02.524722Z",
     "iopub.status.busy": "2021-09-02T14:09:02.524116Z",
     "iopub.status.idle": "2021-09-02T14:09:02.527991Z",
     "shell.execute_reply": "2021-09-02T14:09:02.527498Z"
    }
   },
   "outputs": [],
   "source": [
    "print(a1.get_balance())  # correct way of viewing the balance"
   ]
  },
  {
   "cell_type": "code",
   "execution_count": null,
   "metadata": {
    "execution": {
     "iopub.execute_input": "2021-09-02T14:09:02.532571Z",
     "iopub.status.busy": "2021-09-02T14:09:02.531212Z",
     "iopub.status.idle": "2021-09-02T14:09:02.533199Z",
     "shell.execute_reply": "2021-09-02T14:09:02.533723Z"
    }
   },
   "outputs": [],
   "source": [
    "a1._no = '19371554955'  # if you did this you'd probably lose your job! Don't mess with the convention."
   ]
  },
  {
   "cell_type": "markdown",
   "metadata": {},
   "source": [
    "### Example - a phone book\n",
    "\n",
    "A phone book is a list of data about persons. Typical data includes: name, mobile phone, office phone, private phone, email. This data about a person can be  collected in a class as **attributes**. Think about what kinds of **methods** make sense for this class, e.g.:\n",
    "\n",
    "* Constructor for initializing name, plus one or more other data\n",
    "* Add new mobile number\n",
    "* Add new office number\n",
    "* Add new private number\n",
    "* Add new email\n",
    "* Write out person data"
   ]
  },
  {
   "cell_type": "code",
   "execution_count": null,
   "metadata": {
    "execution": {
     "iopub.execute_input": "2021-09-02T14:09:02.542050Z",
     "iopub.status.busy": "2021-09-02T14:09:02.540654Z",
     "iopub.status.idle": "2021-09-02T14:09:02.542671Z",
     "shell.execute_reply": "2021-09-02T14:09:02.543139Z"
    }
   },
   "outputs": [],
   "source": [
    "class Person:\n",
    "    def __init__(self, name, mobile_phone=None, office_phone=None, private_phone=None, email=None):\n",
    "        self.name = name\n",
    "        self.mobile = mobile_phone\n",
    "        self.office = office_phone\n",
    "        self.private = private_phone\n",
    "        self.email = email\n",
    "\n",
    "    def add_mobile_phone(self, number):\n",
    "        self.mobile = number\n",
    "\n",
    "    def add_office_phone(self, number):\n",
    "        self.office = number\n",
    "\n",
    "    def add_private_phone(self, number):\n",
    "        self.private = number\n",
    "\n",
    "    def add_email(self, address):\n",
    "        self.email = address\n",
    "\n",
    "    def dump(self):\n",
    "        s = self.name + '\\n'\n",
    "        if self.mobile is not None:\n",
    "            s += 'mobile phone:   %s\\n' % self.mobile\n",
    "        if self.office is not None:\n",
    "            s += 'office phone:   %s\\n' % self.office\n",
    "        if self.private is not None:\n",
    "            s += 'private phone:  %s\\n' % self.private\n",
    "        if self.email is not None:\n",
    "            s += 'email address:  %s\\n' % self.email\n",
    "        print(s)"
   ]
  },
  {
   "cell_type": "code",
   "execution_count": null,
   "metadata": {
    "execution": {
     "iopub.execute_input": "2021-09-02T14:09:02.552226Z",
     "iopub.status.busy": "2021-09-02T14:09:02.551641Z",
     "iopub.status.idle": "2021-09-02T14:09:02.557051Z",
     "shell.execute_reply": "2021-09-02T14:09:02.555148Z"
    }
   },
   "outputs": [],
   "source": [
    "p1 = Person('Gerard Gorman', email='g.gorman@imperial.ac.uk')\n",
    "p1.add_office_phone('49985')\n",
    "\n",
    "p2 = Person('ICT Service Desk', office_phone='49000')\n",
    "p2.add_email('service.desk@imperial.ac.uk')\n",
    "\n",
    "phone_book = {'Gorman': p1, 'ICT': p2}\n",
    "for p in phone_book:\n",
    "    phone_book[p].dump()"
   ]
  },
  {
   "cell_type": "markdown",
   "metadata": {},
   "source": [
    "### Example - a circle\n",
    "A circle is defined by its center point $x_0$, $y_0$ and its radius $R$. These data can be attributes in a class. Possible methods in the class are `area` and `circumference`. The constructor initializes $x_0$, $y_0$ and $R$."
   ]
  },
  {
   "cell_type": "code",
   "execution_count": null,
   "metadata": {
    "execution": {
     "iopub.execute_input": "2021-09-02T14:09:02.562720Z",
     "iopub.status.busy": "2021-09-02T14:09:02.561330Z",
     "iopub.status.idle": "2021-09-02T14:09:02.563344Z",
     "shell.execute_reply": "2021-09-02T14:09:02.563812Z"
    }
   },
   "outputs": [],
   "source": [
    "class Circle:\n",
    "    def __init__(self, R, x0, y0,):\n",
    "        self.x0, self.y0, self.R = x0, y0, R\n",
    "\n",
    "    def area(self):\n",
    "        return np.pi * self.R**2\n",
    "\n",
    "    def circumference(self):\n",
    "        return 2*np.pi*self.R"
   ]
  },
  {
   "cell_type": "code",
   "execution_count": null,
   "metadata": {
    "execution": {
     "iopub.execute_input": "2021-09-02T14:09:02.570488Z",
     "iopub.status.busy": "2021-09-02T14:09:02.569448Z",
     "iopub.status.idle": "2021-09-02T14:09:02.573340Z",
     "shell.execute_reply": "2021-09-02T14:09:02.572849Z"
    }
   },
   "outputs": [],
   "source": [
    "c = Circle(2, -1, 5)\n",
    "print('A circle with radius %g at (%g, %g) has area %g' % (c.R, c.x0, c.y0, c.area()))"
   ]
  },
  {
   "cell_type": "markdown",
   "metadata": {},
   "source": [
    "## Exercise 4.8: Make a class for straight lines\n",
    "\n",
    "Make a class called `Line` whose constructor takes two points `p0` and `p1` (2-tuples or 2-lists) as input. The line goes through these two points (see function `line` defined below for the relevant formula of the line). A `value(x)` method computes the `y` value on the line at the point `x` or returns `None` if the line is vertical (i.e. if `(x1-x0) == 0`).\n",
    "\n",
    "```python\n",
    "def line(x0, y0, x1, y1):\n",
    "    \"\"\"\n",
    "    Compute the coefficients a and b in the mathematical\n",
    "    expression for a straight line y = a*x + b that goes\n",
    "    through two points (x0, y0) and (x1, y1).\n",
    "    x0, y0: a point on the line (floats).\n",
    "    x1, y1: another point on the line (floats).\n",
    "    return: coefficients a, b (floats) for the line (y=a*x+b).\n",
    "    \"\"\"\n",
    "    try:\n",
    "        a = (y1 - y0)/(x1 - x0)\n",
    "        b = y0 - a*x0\n",
    "    except ZeroDivisionError:\n",
    "        a, b = None, None\n",
    "    \n",
    "    return a, b\n",
    "```"
   ]
  },
  {
   "cell_type": "code",
   "execution_count": null,
   "metadata": {
    "execution": {
     "iopub.execute_input": "2021-09-02T14:09:02.577828Z",
     "iopub.status.busy": "2021-09-02T14:09:02.576551Z",
     "iopub.status.idle": "2021-09-02T14:09:02.578447Z",
     "shell.execute_reply": "2021-09-02T14:09:02.578914Z"
    }
   },
   "outputs": [],
   "source": [
    "# Uncomment and complete this code - keep the names the same for testing purposes.\n",
    "\n",
    "# class Line:\n",
    "#     def __init__(self, p0, p1):\n",
    "#         ...\n",
    "\n",
    "#     def value(self, x):\n",
    "#         ..."
   ]
  },
  {
   "cell_type": "code",
   "execution_count": null,
   "metadata": {
    "execution": {
     "iopub.execute_input": "2021-09-02T14:09:02.591072Z",
     "iopub.status.busy": "2021-09-02T14:09:02.590484Z",
     "iopub.status.idle": "2021-09-02T14:09:02.612371Z",
     "shell.execute_reply": "2021-09-02T14:09:02.611848Z"
    },
    "tags": [
     "pybryt"
    ]
   },
   "outputs": [],
   "source": [
    "with pybryt.check(pybryt_reference(4, 8)):\n",
    "    line = Line(p0=(123.1, 251.6), p1=(44.3, 12.9))\n",
    "    line.p0, line.p1, line.value(3.141)"
   ]
  },
  {
   "cell_type": "code",
   "execution_count": null,
   "metadata": {
    "execution": {
     "iopub.execute_input": "2021-09-02T14:09:02.619810Z",
     "iopub.status.busy": "2021-09-02T14:09:02.619242Z",
     "iopub.status.idle": "2021-09-02T14:09:02.638317Z",
     "shell.execute_reply": "2021-09-02T14:09:02.634239Z"
    },
    "tags": [
     "okpy"
    ]
   },
   "outputs": [],
   "source": [
    "ok.grade('exercise-4_8')"
   ]
  },
  {
   "cell_type": "markdown",
   "metadata": {},
   "source": [
    "## Exercise 4.9: Make a class for quadratic functions\n",
    "\n",
    "Consider a quadratic function $f(x; a, b, c) = ax^2 + bx + c$. Make a class called `Quadratic` for representing $f$, where $a$, $b$, and $c$ are attributes, and the methods are:\n",
    "\n",
    "1. `value(self, x)` for computing a value of $f$ at a point $x$,\n",
    "2. `table(self, L, R, n)` for writing out a table of $x$ and $f$ values for $n$ values of $x$ in the interval $[L, R]$,\n",
    "3. `roots(self)` for computing the two roots and returning them both in a tuple `(x1, x2)`."
   ]
  },
  {
   "cell_type": "code",
   "execution_count": 20,
   "metadata": {
    "execution": {
     "iopub.execute_input": "2021-09-02T14:09:02.653236Z",
     "iopub.status.busy": "2021-09-02T14:09:02.652646Z",
     "iopub.status.idle": "2021-09-02T14:09:02.656466Z",
     "shell.execute_reply": "2021-09-02T14:09:02.655946Z"
    }
   },
   "outputs": [
    {
     "ename": "IndentationError",
     "evalue": "unindent does not match any outer indentation level (<tokenize>, line 33)",
     "output_type": "error",
     "traceback": [
      "\u001b[1;36m  File \u001b[1;32m\"<tokenize>\"\u001b[1;36m, line \u001b[1;32m33\u001b[0m\n\u001b[1;33m    def table(self, L, R, n):\u001b[0m\n\u001b[1;37m    ^\u001b[0m\n\u001b[1;31mIndentationError\u001b[0m\u001b[1;31m:\u001b[0m unindent does not match any outer indentation level\n"
     ]
    }
   ],
   "source": [
    "# Uncomment and complete this code - keep the names the same for testing purposes.\n",
    "\"\"\"class QuadraticEquation:\n",
    "    def __init__(self, a, b, c):\n",
    "        self.a = a\n",
    "        self.b = b\n",
    "        self.c = c\n",
    "    def table(self):\n",
    "        return ((self.b)**2) - (4 * self.a * self.c)\n",
    "\n",
    "    def root1(self):\n",
    "        if self.discriminant() < 0:\n",
    "            return None\n",
    "        else:\n",
    "            return (-self.b + math.sqrt(self.discriminant())) / (2 * self.a)\n",
    "    def root2(self):\n",
    "        if self.discriminant() < 0:\n",
    "            return None\n",
    "        else:\n",
    "            return (-self.b - math.sqrt(self.discriminant())) / (2 * self.a)\"\"\"\n",
    "class Quadratic:\n",
    "    def __init__(self, a, b, c):\n",
    "        self.a = a\n",
    "        self.b = b\n",
    "        self.c = c\n",
    "\n",
    "    def value(self, x):\n",
    "        return self.a*x**2\n",
    "\n",
    "\n",
    "    def table(self, L, R, n):\n",
    "\n",
    "    def roots(self):\n"
   ]
  },
  {
   "cell_type": "code",
   "execution_count": 21,
   "metadata": {
    "execution": {
     "iopub.execute_input": "2021-09-02T14:09:02.669606Z",
     "iopub.status.busy": "2021-09-02T14:09:02.669002Z",
     "iopub.status.idle": "2021-09-02T14:09:02.712640Z",
     "shell.execute_reply": "2021-09-02T14:09:02.712085Z"
    },
    "tags": [
     "pybryt"
    ]
   },
   "outputs": [
    {
     "name": "stdout",
     "output_type": "stream",
     "text": [
      "REFERENCE: exercise-4_9\n",
      "SATISFIED: False\n",
      "MESSAGES:\n",
      "  - SUCCESS: You initialise the attribute a correctly. Well done!\n",
      "  - SUCCESS: You initialise the attribute b correctly. Well done!\n",
      "  - ERROR: Hmmm... It looks like your implementation of the value method is wrong.\n",
      "  - ERROR: Your computed root x1 is wrong.\n",
      "  - ERROR: Your computed root x2 is wrong.\n",
      "  - ERROR: Your implementation of class Quadratic is wrong.\n"
     ]
    },
    {
     "ename": "NameError",
     "evalue": "name 'Quadratic' is not defined",
     "output_type": "error",
     "traceback": [
      "\u001b[1;31m---------------------------------------------------------------------------\u001b[0m",
      "\u001b[1;31mNameError\u001b[0m                                 Traceback (most recent call last)",
      "\u001b[1;32m<ipython-input-21-6c8f86694556>\u001b[0m in \u001b[0;36m<module>\u001b[1;34m\u001b[0m\n\u001b[0;32m      1\u001b[0m \u001b[1;32mwith\u001b[0m \u001b[0mpybryt\u001b[0m\u001b[1;33m.\u001b[0m\u001b[0mcheck\u001b[0m\u001b[1;33m(\u001b[0m\u001b[0mpybryt_reference\u001b[0m\u001b[1;33m(\u001b[0m\u001b[1;36m4\u001b[0m\u001b[1;33m,\u001b[0m \u001b[1;36m9\u001b[0m\u001b[1;33m)\u001b[0m\u001b[1;33m)\u001b[0m\u001b[1;33m:\u001b[0m\u001b[1;33m\u001b[0m\u001b[1;33m\u001b[0m\u001b[0m\n\u001b[1;32m----> 2\u001b[1;33m     \u001b[0mf\u001b[0m \u001b[1;33m=\u001b[0m \u001b[0mQuadratic\u001b[0m\u001b[1;33m(\u001b[0m\u001b[0ma\u001b[0m\u001b[1;33m=\u001b[0m\u001b[1;36m10.2\u001b[0m\u001b[1;33m,\u001b[0m \u001b[0mb\u001b[0m\u001b[1;33m=\u001b[0m\u001b[1;36m5.6\u001b[0m\u001b[1;33m,\u001b[0m \u001b[0mc\u001b[0m\u001b[1;33m=\u001b[0m\u001b[1;33m-\u001b[0m\u001b[1;36m30.11\u001b[0m\u001b[1;33m)\u001b[0m\u001b[1;33m\u001b[0m\u001b[1;33m\u001b[0m\u001b[0m\n\u001b[0m\u001b[0;32m      3\u001b[0m     \u001b[0mf\u001b[0m\u001b[1;33m.\u001b[0m\u001b[0ma\u001b[0m\u001b[1;33m,\u001b[0m \u001b[0mf\u001b[0m\u001b[1;33m.\u001b[0m\u001b[0mb\u001b[0m\u001b[1;33m,\u001b[0m \u001b[0mf\u001b[0m\u001b[1;33m.\u001b[0m\u001b[0mc\u001b[0m\u001b[1;33m,\u001b[0m \u001b[0mf\u001b[0m\u001b[1;33m.\u001b[0m\u001b[0mvalue\u001b[0m\u001b[1;33m(\u001b[0m\u001b[1;36m500\u001b[0m\u001b[1;33m)\u001b[0m\u001b[1;33m,\u001b[0m \u001b[0mf\u001b[0m\u001b[1;33m.\u001b[0m\u001b[0mroots\u001b[0m\u001b[1;33m(\u001b[0m\u001b[1;33m)\u001b[0m\u001b[1;33m\u001b[0m\u001b[1;33m\u001b[0m\u001b[0m\n",
      "\u001b[1;31mNameError\u001b[0m: name 'Quadratic' is not defined"
     ]
    }
   ],
   "source": [
    "with pybryt.check(pybryt_reference(4, 9)):\n",
    "    f = Quadratic(a=10.2, b=5.6, c=-30.11)\n",
    "    f.a, f.b, f.c, f.value(500), f.roots()"
   ]
  },
  {
   "cell_type": "code",
   "execution_count": null,
   "metadata": {
    "execution": {
     "iopub.execute_input": "2021-09-02T14:09:02.720260Z",
     "iopub.status.busy": "2021-09-02T14:09:02.719678Z",
     "iopub.status.idle": "2021-09-02T14:09:02.747391Z",
     "shell.execute_reply": "2021-09-02T14:09:02.746834Z"
    },
    "tags": [
     "okpy"
    ]
   },
   "outputs": [],
   "source": [
    "ok.grade('exercise-4_9')"
   ]
  },
  {
   "cell_type": "markdown",
   "metadata": {},
   "source": [
    "## Special methods\n",
    "\n",
    "Some class methods have leading and trailing double underscores. You have already met one of these, `__init__` used to initialise an object upon creation. Other examples include `__call__(self, ...)` and `__add__(self, other)`. These *special methods* enable more elegant abstractions and interfaces. Consider for example the difference between the equivalent statements:\n",
    "\n",
    "```python\n",
    "y = Y(4)\n",
    "```\n",
    "rather than\n",
    "```python\n",
    "y = Y\n",
    "Y.__init__(Y, 4)\n",
    "```"
   ]
  },
  {
   "cell_type": "markdown",
   "metadata": {},
   "source": [
    "### Special member function, `__call__`: make the class instance behave and look as a function\n",
    "\n",
    "Let us replace the `value` method in `class Y` by a `__call__` special method:"
   ]
  },
  {
   "cell_type": "code",
   "execution_count": null,
   "metadata": {
    "execution": {
     "iopub.execute_input": "2021-09-02T14:09:02.790742Z",
     "iopub.status.busy": "2021-09-02T14:09:02.790130Z",
     "iopub.status.idle": "2021-09-02T14:09:02.794008Z",
     "shell.execute_reply": "2021-09-02T14:09:02.793481Z"
    }
   },
   "outputs": [],
   "source": [
    "class Y:\n",
    "    def __init__(self, v0, g=9.81):\n",
    "        self.v0 = v0\n",
    "        self.g = g\n",
    "\n",
    "    def __call__(self, t):\n",
    "        return self.v0*t - 0.5*self.g*t**2"
   ]
  },
  {
   "cell_type": "markdown",
   "metadata": {},
   "source": [
    "Now we can write:"
   ]
  },
  {
   "cell_type": "code",
   "execution_count": null,
   "metadata": {
    "execution": {
     "iopub.execute_input": "2021-09-02T14:09:02.798524Z",
     "iopub.status.busy": "2021-09-02T14:09:02.797742Z",
     "iopub.status.idle": "2021-09-02T14:09:02.801742Z",
     "shell.execute_reply": "2021-09-02T14:09:02.801253Z"
    }
   },
   "outputs": [],
   "source": [
    "y = Y(3)\n",
    "v = y(0.1)  # same as v = y.__call__(0.1)"
   ]
  },
  {
   "cell_type": "markdown",
   "metadata": {},
   "source": [
    "The instance $y$ behaves/looks as a function! The `value(t)` method in the first example does the same, but the special method `__call__` provides a more elegant and concise syntax for computing function values."
   ]
  },
  {
   "cell_type": "markdown",
   "metadata": {},
   "source": [
    "### Special member function, `__str__`: represent object as a string for printing\n",
    "\n",
    "In Python, we can usually print an object `a` by `print(a)`. This works for built-in types (strings, lists, floats, ...). However, if we have made a new type through a class, Python does not know how to print objects of this type. However, if the class has defined a method `__str__` , Python will use this method to convert the object to a string."
   ]
  },
  {
   "cell_type": "code",
   "execution_count": null,
   "metadata": {
    "execution": {
     "iopub.execute_input": "2021-09-02T14:09:02.807762Z",
     "iopub.status.busy": "2021-09-02T14:09:02.806361Z",
     "iopub.status.idle": "2021-09-02T14:09:02.808627Z",
     "shell.execute_reply": "2021-09-02T14:09:02.809108Z"
    }
   },
   "outputs": [],
   "source": [
    "class Y:\n",
    "    def __init__(self, v0, g=9.81):\n",
    "        self.v0 = v0\n",
    "        self.g = g\n",
    "\n",
    "    def __call__(self, t):\n",
    "        return self.v0*t - 0.5*self.g*t**2\n",
    "\n",
    "    def __str__(self):\n",
    "        return '%g*t - 0.5*%g*t**2' % (self.v0, self.g)"
   ]
  },
  {
   "cell_type": "code",
   "execution_count": null,
   "metadata": {
    "execution": {
     "iopub.execute_input": "2021-09-02T14:09:02.814600Z",
     "iopub.status.busy": "2021-09-02T14:09:02.813569Z",
     "iopub.status.idle": "2021-09-02T14:09:02.818163Z",
     "shell.execute_reply": "2021-09-02T14:09:02.817672Z"
    }
   },
   "outputs": [],
   "source": [
    "y = Y(1.5)\n",
    "print(y)"
   ]
  },
  {
   "cell_type": "markdown",
   "metadata": {},
   "source": [
    "### Special methods for overloading arithmetic operations\n",
    "\n",
    "```python\n",
    "c=a+b               # c = a.__add__(b)  \n",
    "c=a-b               # c = a.__sub__(b)  \n",
    "c = a*b             # c = a.__mul__(b)  \n",
    "c = a/b             # c = a.__div__(b)  \n",
    "c = a**e            # c = a.__pow__(e)\n",
    "```"
   ]
  },
  {
   "cell_type": "markdown",
   "metadata": {},
   "source": [
    "### Special methods for overloading conditional operations\n",
    "\n",
    "```python\n",
    "a == b               #  a.__eq__(b)  \n",
    "a != b               #  a.__ne__(b)  \n",
    "a < b                #  a.__lt__(b)  \n",
    "a <= b               #  a.__le__(b)  \n",
    "a > b                #  a.__gt__(b)  \n",
    "a >= b               #  a.__ge__(b)\n",
    "```"
   ]
  },
  {
   "cell_type": "code",
   "execution_count": null,
   "metadata": {
    "execution": {
     "iopub.execute_input": "2021-09-02T14:09:02.825059Z",
     "iopub.status.busy": "2021-09-02T14:09:02.824478Z",
     "iopub.status.idle": "2021-09-02T14:09:02.986220Z",
     "shell.execute_reply": "2021-09-02T14:09:02.968961Z"
    },
    "tags": [
     "okpy"
    ]
   },
   "outputs": [],
   "source": [
    "ok.score()"
   ]
  }
 ],
 "metadata": {
  "celltoolbar": "Tags",
  "interpreter": {
   "hash": "c04907a71922e896eb3eabbf39aae5214c9353c0e4e99219a436178ec3041361"
  },
  "kernelspec": {
   "display_name": "Python 3",
   "language": "python",
   "name": "python3"
  },
  "language_info": {
   "codemirror_mode": {
    "name": "ipython",
    "version": 3
   },
   "file_extension": ".py",
   "mimetype": "text/x-python",
   "name": "python",
   "nbconvert_exporter": "python",
   "pygments_lexer": "ipython3",
   "version": "3.8.11"
  }
 },
 "nbformat": 4,
 "nbformat_minor": 4
}
